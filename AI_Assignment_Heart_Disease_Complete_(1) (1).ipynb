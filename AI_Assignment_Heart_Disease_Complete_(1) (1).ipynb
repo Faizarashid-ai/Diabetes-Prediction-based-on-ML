{
  "cells": [
    {
      "cell_type": "code",
      "execution_count": null,
      "metadata": {
        "id": "MyDjrg3tuIKs"
      },
      "outputs": [],
      "source": [
        "import pandas as pd\n",
        "import numpy as np\n",
        "from sklearn.model_selection import train_test_split\n",
        "from sklearn.metrics import accuracy_score, classification_report, confusion_matrix, f1_score\n",
        "from sklearn.preprocessing import StandardScaler\n",
        "from sklearn.ensemble import RandomForestClassifier\n",
        "from sklearn.linear_model import LogisticRegression\n",
        "from sklearn.metrics import accuracy_score, confusion_matrix, classification_report, roc_auc_score, roc_curve\n",
        "import matplotlib.pyplot as plt\n",
        "import seaborn as sns\n",
        "from sklearn.preprocessing import OneHotEncoder, MinMaxScaler\n",
        "from sklearn.compose import ColumnTransformer\n",
        "from sklearn.pipeline import Pipeline"
      ]
    },
    {
      "cell_type": "code",
      "execution_count": null,
      "metadata": {
        "colab": {
          "base_uri": "https://localhost:8080/"
        },
        "id": "v6M3dRqw9nek",
        "outputId": "fc452cbe-8bbe-49dc-f911-125d85a41483"
      },
      "outputs": [
        {
          "name": "stdout",
          "output_type": "stream",
          "text": [
            "Drive already mounted at /content/drive; to attempt to forcibly remount, call drive.mount(\"/content/drive\", force_remount=True).\n"
          ]
        }
      ],
      "source": [
        "# from google.colab import drive\n",
        "# drive.mount('/content/drive')"
      ]
    },
    {
      "cell_type": "code",
      "execution_count": null,
      "metadata": {
        "id": "sa_WBjVEu46s"
      },
      "outputs": [],
      "source": [
        "# heart=pd.read_csv('/content/drive/MyDrive/Datasets/Heart_disease_cleveland.csv')\n",
        "heart=pd.read_csv('E:\\python projects\\datasets\\heart disease cleveland\\Heart_disease_cleveland.csv')"
      ]
    },
    {
      "cell_type": "code",
      "execution_count": null,
      "metadata": {
        "colab": {
          "base_uri": "https://localhost:8080/"
        },
        "id": "RtqcxV4vw_gn",
        "outputId": "1e10b53a-9d72-41ae-bc8e-f9dc263e2c36"
      },
      "outputs": [
        {
          "data": {
            "text/plain": [
              "Index(['age', 'sex', 'cp', 'trestbps', 'chol', 'fbs', 'restecg', 'thalach',\n",
              "       'exang', 'oldpeak', 'slope', 'ca', 'thal', 'target'],\n",
              "      dtype='object')"
            ]
          },
          "execution_count": 117,
          "metadata": {},
          "output_type": "execute_result"
        }
      ],
      "source": [
        "heart.columns"
      ]
    },
    {
      "cell_type": "code",
      "execution_count": null,
      "metadata": {
        "colab": {
          "base_uri": "https://localhost:8080/",
          "height": 523
        },
        "id": "8H916zMQxDPE",
        "outputId": "184981e8-f32f-4941-cf7a-02ce0268c1ba"
      },
      "outputs": [
        {
          "data": {
            "text/plain": [
              "age           int64\n",
              "sex           int64\n",
              "cp            int64\n",
              "trestbps      int64\n",
              "chol          int64\n",
              "fbs           int64\n",
              "restecg       int64\n",
              "thalach       int64\n",
              "exang         int64\n",
              "oldpeak     float64\n",
              "slope         int64\n",
              "ca            int64\n",
              "thal          int64\n",
              "target        int64\n",
              "dtype: object"
            ]
          },
          "execution_count": 118,
          "metadata": {},
          "output_type": "execute_result"
        }
      ],
      "source": [
        "heart.dtypes\n"
      ]
    },
    {
      "cell_type": "code",
      "execution_count": null,
      "metadata": {
        "colab": {
          "base_uri": "https://localhost:8080/",
          "height": 423
        },
        "id": "JS19FQ9V4Hja",
        "outputId": "5712e3a3-a511-4acd-e197-e362b3219f7f"
      },
      "outputs": [
        {
          "data": {
            "application/vnd.google.colaboratory.intrinsic+json": {
              "summary": "{\n  \"name\": \"heart\",\n  \"rows\": 303,\n  \"fields\": [\n    {\n      \"column\": \"age\",\n      \"properties\": {\n        \"dtype\": \"boolean\",\n        \"num_unique_values\": 1,\n        \"samples\": [\n          false\n        ],\n        \"semantic_type\": \"\",\n        \"description\": \"\"\n      }\n    },\n    {\n      \"column\": \"sex\",\n      \"properties\": {\n        \"dtype\": \"boolean\",\n        \"num_unique_values\": 1,\n        \"samples\": [\n          false\n        ],\n        \"semantic_type\": \"\",\n        \"description\": \"\"\n      }\n    },\n    {\n      \"column\": \"cp\",\n      \"properties\": {\n        \"dtype\": \"boolean\",\n        \"num_unique_values\": 1,\n        \"samples\": [\n          false\n        ],\n        \"semantic_type\": \"\",\n        \"description\": \"\"\n      }\n    },\n    {\n      \"column\": \"trestbps\",\n      \"properties\": {\n        \"dtype\": \"boolean\",\n        \"num_unique_values\": 1,\n        \"samples\": [\n          false\n        ],\n        \"semantic_type\": \"\",\n        \"description\": \"\"\n      }\n    },\n    {\n      \"column\": \"chol\",\n      \"properties\": {\n        \"dtype\": \"boolean\",\n        \"num_unique_values\": 1,\n        \"samples\": [\n          false\n        ],\n        \"semantic_type\": \"\",\n        \"description\": \"\"\n      }\n    },\n    {\n      \"column\": \"fbs\",\n      \"properties\": {\n        \"dtype\": \"boolean\",\n        \"num_unique_values\": 1,\n        \"samples\": [\n          false\n        ],\n        \"semantic_type\": \"\",\n        \"description\": \"\"\n      }\n    },\n    {\n      \"column\": \"restecg\",\n      \"properties\": {\n        \"dtype\": \"boolean\",\n        \"num_unique_values\": 1,\n        \"samples\": [\n          false\n        ],\n        \"semantic_type\": \"\",\n        \"description\": \"\"\n      }\n    },\n    {\n      \"column\": \"thalach\",\n      \"properties\": {\n        \"dtype\": \"boolean\",\n        \"num_unique_values\": 1,\n        \"samples\": [\n          false\n        ],\n        \"semantic_type\": \"\",\n        \"description\": \"\"\n      }\n    },\n    {\n      \"column\": \"exang\",\n      \"properties\": {\n        \"dtype\": \"boolean\",\n        \"num_unique_values\": 1,\n        \"samples\": [\n          false\n        ],\n        \"semantic_type\": \"\",\n        \"description\": \"\"\n      }\n    },\n    {\n      \"column\": \"oldpeak\",\n      \"properties\": {\n        \"dtype\": \"boolean\",\n        \"num_unique_values\": 1,\n        \"samples\": [\n          false\n        ],\n        \"semantic_type\": \"\",\n        \"description\": \"\"\n      }\n    },\n    {\n      \"column\": \"slope\",\n      \"properties\": {\n        \"dtype\": \"boolean\",\n        \"num_unique_values\": 1,\n        \"samples\": [\n          false\n        ],\n        \"semantic_type\": \"\",\n        \"description\": \"\"\n      }\n    },\n    {\n      \"column\": \"ca\",\n      \"properties\": {\n        \"dtype\": \"boolean\",\n        \"num_unique_values\": 1,\n        \"samples\": [\n          false\n        ],\n        \"semantic_type\": \"\",\n        \"description\": \"\"\n      }\n    },\n    {\n      \"column\": \"thal\",\n      \"properties\": {\n        \"dtype\": \"boolean\",\n        \"num_unique_values\": 1,\n        \"samples\": [\n          false\n        ],\n        \"semantic_type\": \"\",\n        \"description\": \"\"\n      }\n    },\n    {\n      \"column\": \"target\",\n      \"properties\": {\n        \"dtype\": \"boolean\",\n        \"num_unique_values\": 1,\n        \"samples\": [\n          false\n        ],\n        \"semantic_type\": \"\",\n        \"description\": \"\"\n      }\n    }\n  ]\n}",
              "type": "dataframe"
            },
            "text/html": [
              "\n",
              "  <div id=\"df-fddfc3ba-ecfa-4c50-b7d9-f30cd7c840e7\" class=\"colab-df-container\">\n",
              "    <div>\n",
              "<style scoped>\n",
              "    .dataframe tbody tr th:only-of-type {\n",
              "        vertical-align: middle;\n",
              "    }\n",
              "\n",
              "    .dataframe tbody tr th {\n",
              "        vertical-align: top;\n",
              "    }\n",
              "\n",
              "    .dataframe thead th {\n",
              "        text-align: right;\n",
              "    }\n",
              "</style>\n",
              "<table border=\"1\" class=\"dataframe\">\n",
              "  <thead>\n",
              "    <tr style=\"text-align: right;\">\n",
              "      <th></th>\n",
              "      <th>age</th>\n",
              "      <th>sex</th>\n",
              "      <th>cp</th>\n",
              "      <th>trestbps</th>\n",
              "      <th>chol</th>\n",
              "      <th>fbs</th>\n",
              "      <th>restecg</th>\n",
              "      <th>thalach</th>\n",
              "      <th>exang</th>\n",
              "      <th>oldpeak</th>\n",
              "      <th>slope</th>\n",
              "      <th>ca</th>\n",
              "      <th>thal</th>\n",
              "      <th>target</th>\n",
              "    </tr>\n",
              "  </thead>\n",
              "  <tbody>\n",
              "    <tr>\n",
              "      <th>0</th>\n",
              "      <td>False</td>\n",
              "      <td>False</td>\n",
              "      <td>False</td>\n",
              "      <td>False</td>\n",
              "      <td>False</td>\n",
              "      <td>False</td>\n",
              "      <td>False</td>\n",
              "      <td>False</td>\n",
              "      <td>False</td>\n",
              "      <td>False</td>\n",
              "      <td>False</td>\n",
              "      <td>False</td>\n",
              "      <td>False</td>\n",
              "      <td>False</td>\n",
              "    </tr>\n",
              "    <tr>\n",
              "      <th>1</th>\n",
              "      <td>False</td>\n",
              "      <td>False</td>\n",
              "      <td>False</td>\n",
              "      <td>False</td>\n",
              "      <td>False</td>\n",
              "      <td>False</td>\n",
              "      <td>False</td>\n",
              "      <td>False</td>\n",
              "      <td>False</td>\n",
              "      <td>False</td>\n",
              "      <td>False</td>\n",
              "      <td>False</td>\n",
              "      <td>False</td>\n",
              "      <td>False</td>\n",
              "    </tr>\n",
              "    <tr>\n",
              "      <th>2</th>\n",
              "      <td>False</td>\n",
              "      <td>False</td>\n",
              "      <td>False</td>\n",
              "      <td>False</td>\n",
              "      <td>False</td>\n",
              "      <td>False</td>\n",
              "      <td>False</td>\n",
              "      <td>False</td>\n",
              "      <td>False</td>\n",
              "      <td>False</td>\n",
              "      <td>False</td>\n",
              "      <td>False</td>\n",
              "      <td>False</td>\n",
              "      <td>False</td>\n",
              "    </tr>\n",
              "    <tr>\n",
              "      <th>3</th>\n",
              "      <td>False</td>\n",
              "      <td>False</td>\n",
              "      <td>False</td>\n",
              "      <td>False</td>\n",
              "      <td>False</td>\n",
              "      <td>False</td>\n",
              "      <td>False</td>\n",
              "      <td>False</td>\n",
              "      <td>False</td>\n",
              "      <td>False</td>\n",
              "      <td>False</td>\n",
              "      <td>False</td>\n",
              "      <td>False</td>\n",
              "      <td>False</td>\n",
              "    </tr>\n",
              "    <tr>\n",
              "      <th>4</th>\n",
              "      <td>False</td>\n",
              "      <td>False</td>\n",
              "      <td>False</td>\n",
              "      <td>False</td>\n",
              "      <td>False</td>\n",
              "      <td>False</td>\n",
              "      <td>False</td>\n",
              "      <td>False</td>\n",
              "      <td>False</td>\n",
              "      <td>False</td>\n",
              "      <td>False</td>\n",
              "      <td>False</td>\n",
              "      <td>False</td>\n",
              "      <td>False</td>\n",
              "    </tr>\n",
              "    <tr>\n",
              "      <th>...</th>\n",
              "      <td>...</td>\n",
              "      <td>...</td>\n",
              "      <td>...</td>\n",
              "      <td>...</td>\n",
              "      <td>...</td>\n",
              "      <td>...</td>\n",
              "      <td>...</td>\n",
              "      <td>...</td>\n",
              "      <td>...</td>\n",
              "      <td>...</td>\n",
              "      <td>...</td>\n",
              "      <td>...</td>\n",
              "      <td>...</td>\n",
              "      <td>...</td>\n",
              "    </tr>\n",
              "    <tr>\n",
              "      <th>298</th>\n",
              "      <td>False</td>\n",
              "      <td>False</td>\n",
              "      <td>False</td>\n",
              "      <td>False</td>\n",
              "      <td>False</td>\n",
              "      <td>False</td>\n",
              "      <td>False</td>\n",
              "      <td>False</td>\n",
              "      <td>False</td>\n",
              "      <td>False</td>\n",
              "      <td>False</td>\n",
              "      <td>False</td>\n",
              "      <td>False</td>\n",
              "      <td>False</td>\n",
              "    </tr>\n",
              "    <tr>\n",
              "      <th>299</th>\n",
              "      <td>False</td>\n",
              "      <td>False</td>\n",
              "      <td>False</td>\n",
              "      <td>False</td>\n",
              "      <td>False</td>\n",
              "      <td>False</td>\n",
              "      <td>False</td>\n",
              "      <td>False</td>\n",
              "      <td>False</td>\n",
              "      <td>False</td>\n",
              "      <td>False</td>\n",
              "      <td>False</td>\n",
              "      <td>False</td>\n",
              "      <td>False</td>\n",
              "    </tr>\n",
              "    <tr>\n",
              "      <th>300</th>\n",
              "      <td>False</td>\n",
              "      <td>False</td>\n",
              "      <td>False</td>\n",
              "      <td>False</td>\n",
              "      <td>False</td>\n",
              "      <td>False</td>\n",
              "      <td>False</td>\n",
              "      <td>False</td>\n",
              "      <td>False</td>\n",
              "      <td>False</td>\n",
              "      <td>False</td>\n",
              "      <td>False</td>\n",
              "      <td>False</td>\n",
              "      <td>False</td>\n",
              "    </tr>\n",
              "    <tr>\n",
              "      <th>301</th>\n",
              "      <td>False</td>\n",
              "      <td>False</td>\n",
              "      <td>False</td>\n",
              "      <td>False</td>\n",
              "      <td>False</td>\n",
              "      <td>False</td>\n",
              "      <td>False</td>\n",
              "      <td>False</td>\n",
              "      <td>False</td>\n",
              "      <td>False</td>\n",
              "      <td>False</td>\n",
              "      <td>False</td>\n",
              "      <td>False</td>\n",
              "      <td>False</td>\n",
              "    </tr>\n",
              "    <tr>\n",
              "      <th>302</th>\n",
              "      <td>False</td>\n",
              "      <td>False</td>\n",
              "      <td>False</td>\n",
              "      <td>False</td>\n",
              "      <td>False</td>\n",
              "      <td>False</td>\n",
              "      <td>False</td>\n",
              "      <td>False</td>\n",
              "      <td>False</td>\n",
              "      <td>False</td>\n",
              "      <td>False</td>\n",
              "      <td>False</td>\n",
              "      <td>False</td>\n",
              "      <td>False</td>\n",
              "    </tr>\n",
              "  </tbody>\n",
              "</table>\n",
              "<p>303 rows × 14 columns</p>\n",
              "</div>\n",
              "    <div class=\"colab-df-buttons\">\n",
              "\n",
              "  <div class=\"colab-df-container\">\n",
              "    <button class=\"colab-df-convert\" onclick=\"convertToInteractive('df-fddfc3ba-ecfa-4c50-b7d9-f30cd7c840e7')\"\n",
              "            title=\"Convert this dataframe to an interactive table.\"\n",
              "            style=\"display:none;\">\n",
              "\n",
              "  <svg xmlns=\"http://www.w3.org/2000/svg\" height=\"24px\" viewBox=\"0 -960 960 960\">\n",
              "    <path d=\"M120-120v-720h720v720H120Zm60-500h600v-160H180v160Zm220 220h160v-160H400v160Zm0 220h160v-160H400v160ZM180-400h160v-160H180v160Zm440 0h160v-160H620v160ZM180-180h160v-160H180v160Zm440 0h160v-160H620v160Z\"/>\n",
              "  </svg>\n",
              "    </button>\n",
              "\n",
              "  <style>\n",
              "    .colab-df-container {\n",
              "      display:flex;\n",
              "      gap: 12px;\n",
              "    }\n",
              "\n",
              "    .colab-df-convert {\n",
              "      background-color: #E8F0FE;\n",
              "      border: none;\n",
              "      border-radius: 50%;\n",
              "      cursor: pointer;\n",
              "      display: none;\n",
              "      fill: #1967D2;\n",
              "      height: 32px;\n",
              "      padding: 0 0 0 0;\n",
              "      width: 32px;\n",
              "    }\n",
              "\n",
              "    .colab-df-convert:hover {\n",
              "      background-color: #E2EBFA;\n",
              "      box-shadow: 0px 1px 2px rgba(60, 64, 67, 0.3), 0px 1px 3px 1px rgba(60, 64, 67, 0.15);\n",
              "      fill: #174EA6;\n",
              "    }\n",
              "\n",
              "    .colab-df-buttons div {\n",
              "      margin-bottom: 4px;\n",
              "    }\n",
              "\n",
              "    [theme=dark] .colab-df-convert {\n",
              "      background-color: #3B4455;\n",
              "      fill: #D2E3FC;\n",
              "    }\n",
              "\n",
              "    [theme=dark] .colab-df-convert:hover {\n",
              "      background-color: #434B5C;\n",
              "      box-shadow: 0px 1px 3px 1px rgba(0, 0, 0, 0.15);\n",
              "      filter: drop-shadow(0px 1px 2px rgba(0, 0, 0, 0.3));\n",
              "      fill: #FFFFFF;\n",
              "    }\n",
              "  </style>\n",
              "\n",
              "    <script>\n",
              "      const buttonEl =\n",
              "        document.querySelector('#df-fddfc3ba-ecfa-4c50-b7d9-f30cd7c840e7 button.colab-df-convert');\n",
              "      buttonEl.style.display =\n",
              "        google.colab.kernel.accessAllowed ? 'block' : 'none';\n",
              "\n",
              "      async function convertToInteractive(key) {\n",
              "        const element = document.querySelector('#df-fddfc3ba-ecfa-4c50-b7d9-f30cd7c840e7');\n",
              "        const dataTable =\n",
              "          await google.colab.kernel.invokeFunction('convertToInteractive',\n",
              "                                                    [key], {});\n",
              "        if (!dataTable) return;\n",
              "\n",
              "        const docLinkHtml = 'Like what you see? Visit the ' +\n",
              "          '<a target=\"_blank\" href=https://colab.research.google.com/notebooks/data_table.ipynb>data table notebook</a>'\n",
              "          + ' to learn more about interactive tables.';\n",
              "        element.innerHTML = '';\n",
              "        dataTable['output_type'] = 'display_data';\n",
              "        await google.colab.output.renderOutput(dataTable, element);\n",
              "        const docLink = document.createElement('div');\n",
              "        docLink.innerHTML = docLinkHtml;\n",
              "        element.appendChild(docLink);\n",
              "      }\n",
              "    </script>\n",
              "  </div>\n",
              "\n",
              "\n",
              "    <div id=\"df-e7cbdbab-b03c-49f4-ae1c-91acd12a2e9b\">\n",
              "      <button class=\"colab-df-quickchart\" onclick=\"quickchart('df-e7cbdbab-b03c-49f4-ae1c-91acd12a2e9b')\"\n",
              "                title=\"Suggest charts\"\n",
              "                style=\"display:none;\">\n",
              "\n",
              "<svg xmlns=\"http://www.w3.org/2000/svg\" height=\"24px\"viewBox=\"0 0 24 24\"\n",
              "     width=\"24px\">\n",
              "    <g>\n",
              "        <path d=\"M19 3H5c-1.1 0-2 .9-2 2v14c0 1.1.9 2 2 2h14c1.1 0 2-.9 2-2V5c0-1.1-.9-2-2-2zM9 17H7v-7h2v7zm4 0h-2V7h2v10zm4 0h-2v-4h2v4z\"/>\n",
              "    </g>\n",
              "</svg>\n",
              "      </button>\n",
              "\n",
              "<style>\n",
              "  .colab-df-quickchart {\n",
              "      --bg-color: #E8F0FE;\n",
              "      --fill-color: #1967D2;\n",
              "      --hover-bg-color: #E2EBFA;\n",
              "      --hover-fill-color: #174EA6;\n",
              "      --disabled-fill-color: #AAA;\n",
              "      --disabled-bg-color: #DDD;\n",
              "  }\n",
              "\n",
              "  [theme=dark] .colab-df-quickchart {\n",
              "      --bg-color: #3B4455;\n",
              "      --fill-color: #D2E3FC;\n",
              "      --hover-bg-color: #434B5C;\n",
              "      --hover-fill-color: #FFFFFF;\n",
              "      --disabled-bg-color: #3B4455;\n",
              "      --disabled-fill-color: #666;\n",
              "  }\n",
              "\n",
              "  .colab-df-quickchart {\n",
              "    background-color: var(--bg-color);\n",
              "    border: none;\n",
              "    border-radius: 50%;\n",
              "    cursor: pointer;\n",
              "    display: none;\n",
              "    fill: var(--fill-color);\n",
              "    height: 32px;\n",
              "    padding: 0;\n",
              "    width: 32px;\n",
              "  }\n",
              "\n",
              "  .colab-df-quickchart:hover {\n",
              "    background-color: var(--hover-bg-color);\n",
              "    box-shadow: 0 1px 2px rgba(60, 64, 67, 0.3), 0 1px 3px 1px rgba(60, 64, 67, 0.15);\n",
              "    fill: var(--button-hover-fill-color);\n",
              "  }\n",
              "\n",
              "  .colab-df-quickchart-complete:disabled,\n",
              "  .colab-df-quickchart-complete:disabled:hover {\n",
              "    background-color: var(--disabled-bg-color);\n",
              "    fill: var(--disabled-fill-color);\n",
              "    box-shadow: none;\n",
              "  }\n",
              "\n",
              "  .colab-df-spinner {\n",
              "    border: 2px solid var(--fill-color);\n",
              "    border-color: transparent;\n",
              "    border-bottom-color: var(--fill-color);\n",
              "    animation:\n",
              "      spin 1s steps(1) infinite;\n",
              "  }\n",
              "\n",
              "  @keyframes spin {\n",
              "    0% {\n",
              "      border-color: transparent;\n",
              "      border-bottom-color: var(--fill-color);\n",
              "      border-left-color: var(--fill-color);\n",
              "    }\n",
              "    20% {\n",
              "      border-color: transparent;\n",
              "      border-left-color: var(--fill-color);\n",
              "      border-top-color: var(--fill-color);\n",
              "    }\n",
              "    30% {\n",
              "      border-color: transparent;\n",
              "      border-left-color: var(--fill-color);\n",
              "      border-top-color: var(--fill-color);\n",
              "      border-right-color: var(--fill-color);\n",
              "    }\n",
              "    40% {\n",
              "      border-color: transparent;\n",
              "      border-right-color: var(--fill-color);\n",
              "      border-top-color: var(--fill-color);\n",
              "    }\n",
              "    60% {\n",
              "      border-color: transparent;\n",
              "      border-right-color: var(--fill-color);\n",
              "    }\n",
              "    80% {\n",
              "      border-color: transparent;\n",
              "      border-right-color: var(--fill-color);\n",
              "      border-bottom-color: var(--fill-color);\n",
              "    }\n",
              "    90% {\n",
              "      border-color: transparent;\n",
              "      border-bottom-color: var(--fill-color);\n",
              "    }\n",
              "  }\n",
              "</style>\n",
              "\n",
              "      <script>\n",
              "        async function quickchart(key) {\n",
              "          const quickchartButtonEl =\n",
              "            document.querySelector('#' + key + ' button');\n",
              "          quickchartButtonEl.disabled = true;  // To prevent multiple clicks.\n",
              "          quickchartButtonEl.classList.add('colab-df-spinner');\n",
              "          try {\n",
              "            const charts = await google.colab.kernel.invokeFunction(\n",
              "                'suggestCharts', [key], {});\n",
              "          } catch (error) {\n",
              "            console.error('Error during call to suggestCharts:', error);\n",
              "          }\n",
              "          quickchartButtonEl.classList.remove('colab-df-spinner');\n",
              "          quickchartButtonEl.classList.add('colab-df-quickchart-complete');\n",
              "        }\n",
              "        (() => {\n",
              "          let quickchartButtonEl =\n",
              "            document.querySelector('#df-e7cbdbab-b03c-49f4-ae1c-91acd12a2e9b button');\n",
              "          quickchartButtonEl.style.display =\n",
              "            google.colab.kernel.accessAllowed ? 'block' : 'none';\n",
              "        })();\n",
              "      </script>\n",
              "    </div>\n",
              "\n",
              "    </div>\n",
              "  </div>\n"
            ],
            "text/plain": [
              "       age    sex     cp  trestbps   chol    fbs  restecg  thalach  exang  \\\n",
              "0    False  False  False     False  False  False    False    False  False   \n",
              "1    False  False  False     False  False  False    False    False  False   \n",
              "2    False  False  False     False  False  False    False    False  False   \n",
              "3    False  False  False     False  False  False    False    False  False   \n",
              "4    False  False  False     False  False  False    False    False  False   \n",
              "..     ...    ...    ...       ...    ...    ...      ...      ...    ...   \n",
              "298  False  False  False     False  False  False    False    False  False   \n",
              "299  False  False  False     False  False  False    False    False  False   \n",
              "300  False  False  False     False  False  False    False    False  False   \n",
              "301  False  False  False     False  False  False    False    False  False   \n",
              "302  False  False  False     False  False  False    False    False  False   \n",
              "\n",
              "     oldpeak  slope     ca   thal  target  \n",
              "0      False  False  False  False   False  \n",
              "1      False  False  False  False   False  \n",
              "2      False  False  False  False   False  \n",
              "3      False  False  False  False   False  \n",
              "4      False  False  False  False   False  \n",
              "..       ...    ...    ...    ...     ...  \n",
              "298    False  False  False  False   False  \n",
              "299    False  False  False  False   False  \n",
              "300    False  False  False  False   False  \n",
              "301    False  False  False  False   False  \n",
              "302    False  False  False  False   False  \n",
              "\n",
              "[303 rows x 14 columns]"
            ]
          },
          "execution_count": 142,
          "metadata": {},
          "output_type": "execute_result"
        }
      ],
      "source": [
        "heart.isnull()"
      ]
    },
    {
      "cell_type": "code",
      "execution_count": null,
      "metadata": {
        "colab": {
          "base_uri": "https://localhost:8080/",
          "height": 523
        },
        "id": "JfEIyUDsxIm6",
        "outputId": "60e54188-e1f6-4ee1-c6f1-017f3c43f9e1"
      },
      "outputs": [
        {
          "data": {
            "text/plain": [
              "age         0\n",
              "sex         0\n",
              "cp          0\n",
              "trestbps    0\n",
              "chol        0\n",
              "fbs         0\n",
              "restecg     0\n",
              "thalach     0\n",
              "exang       0\n",
              "oldpeak     0\n",
              "slope       0\n",
              "ca          0\n",
              "thal        0\n",
              "target      0\n",
              "dtype: int64"
            ]
          },
          "execution_count": 5,
          "metadata": {},
          "output_type": "execute_result"
        }
      ],
      "source": [
        "heart.isnull().sum()"
      ]
    },
    {
      "cell_type": "code",
      "execution_count": null,
      "metadata": {
        "colab": {
          "base_uri": "https://localhost:8080/"
        },
        "id": "iFEPRpZavF_R",
        "outputId": "84f9251b-3c13-4c38-b2f1-610fd256cc03"
      },
      "outputs": [
        {
          "data": {
            "text/plain": [
              "(303, 14)"
            ]
          },
          "execution_count": 6,
          "metadata": {},
          "output_type": "execute_result"
        }
      ],
      "source": [
        "heart.shape"
      ]
    },
    {
      "cell_type": "code",
      "execution_count": null,
      "metadata": {
        "colab": {
          "base_uri": "https://localhost:8080/",
          "height": 320
        },
        "id": "fa_mHvInvKTV",
        "outputId": "e34f5a2e-e22f-4e24-e4fa-ac27c68b1b39"
      },
      "outputs": [
        {
          "data": {
            "text/html": [
              "<div>\n",
              "<style scoped>\n",
              "    .dataframe tbody tr th:only-of-type {\n",
              "        vertical-align: middle;\n",
              "    }\n",
              "\n",
              "    .dataframe tbody tr th {\n",
              "        vertical-align: top;\n",
              "    }\n",
              "\n",
              "    .dataframe thead th {\n",
              "        text-align: right;\n",
              "    }\n",
              "</style>\n",
              "<table border=\"1\" class=\"dataframe\">\n",
              "  <thead>\n",
              "    <tr style=\"text-align: right;\">\n",
              "      <th></th>\n",
              "      <th>age</th>\n",
              "      <th>sex</th>\n",
              "      <th>cp</th>\n",
              "      <th>trestbps</th>\n",
              "      <th>chol</th>\n",
              "      <th>fbs</th>\n",
              "      <th>restecg</th>\n",
              "      <th>thalach</th>\n",
              "      <th>exang</th>\n",
              "      <th>oldpeak</th>\n",
              "      <th>slope</th>\n",
              "      <th>ca</th>\n",
              "      <th>thal</th>\n",
              "      <th>target</th>\n",
              "    </tr>\n",
              "  </thead>\n",
              "  <tbody>\n",
              "    <tr>\n",
              "      <th>count</th>\n",
              "      <td>303.000000</td>\n",
              "      <td>303.000000</td>\n",
              "      <td>303.000000</td>\n",
              "      <td>303.000000</td>\n",
              "      <td>303.000000</td>\n",
              "      <td>303.000000</td>\n",
              "      <td>303.000000</td>\n",
              "      <td>303.000000</td>\n",
              "      <td>303.000000</td>\n",
              "      <td>303.000000</td>\n",
              "      <td>303.000000</td>\n",
              "      <td>303.000000</td>\n",
              "      <td>303.000000</td>\n",
              "      <td>303.000000</td>\n",
              "    </tr>\n",
              "    <tr>\n",
              "      <th>mean</th>\n",
              "      <td>54.438944</td>\n",
              "      <td>0.679868</td>\n",
              "      <td>2.158416</td>\n",
              "      <td>131.689769</td>\n",
              "      <td>246.693069</td>\n",
              "      <td>0.148515</td>\n",
              "      <td>0.990099</td>\n",
              "      <td>149.607261</td>\n",
              "      <td>0.326733</td>\n",
              "      <td>1.039604</td>\n",
              "      <td>0.600660</td>\n",
              "      <td>0.663366</td>\n",
              "      <td>1.831683</td>\n",
              "      <td>0.458746</td>\n",
              "    </tr>\n",
              "    <tr>\n",
              "      <th>std</th>\n",
              "      <td>9.038662</td>\n",
              "      <td>0.467299</td>\n",
              "      <td>0.960126</td>\n",
              "      <td>17.599748</td>\n",
              "      <td>51.776918</td>\n",
              "      <td>0.356198</td>\n",
              "      <td>0.994971</td>\n",
              "      <td>22.875003</td>\n",
              "      <td>0.469794</td>\n",
              "      <td>1.161075</td>\n",
              "      <td>0.616226</td>\n",
              "      <td>0.934375</td>\n",
              "      <td>0.956705</td>\n",
              "      <td>0.499120</td>\n",
              "    </tr>\n",
              "    <tr>\n",
              "      <th>min</th>\n",
              "      <td>29.000000</td>\n",
              "      <td>0.000000</td>\n",
              "      <td>0.000000</td>\n",
              "      <td>94.000000</td>\n",
              "      <td>126.000000</td>\n",
              "      <td>0.000000</td>\n",
              "      <td>0.000000</td>\n",
              "      <td>71.000000</td>\n",
              "      <td>0.000000</td>\n",
              "      <td>0.000000</td>\n",
              "      <td>0.000000</td>\n",
              "      <td>0.000000</td>\n",
              "      <td>1.000000</td>\n",
              "      <td>0.000000</td>\n",
              "    </tr>\n",
              "    <tr>\n",
              "      <th>25%</th>\n",
              "      <td>48.000000</td>\n",
              "      <td>0.000000</td>\n",
              "      <td>2.000000</td>\n",
              "      <td>120.000000</td>\n",
              "      <td>211.000000</td>\n",
              "      <td>0.000000</td>\n",
              "      <td>0.000000</td>\n",
              "      <td>133.500000</td>\n",
              "      <td>0.000000</td>\n",
              "      <td>0.000000</td>\n",
              "      <td>0.000000</td>\n",
              "      <td>0.000000</td>\n",
              "      <td>1.000000</td>\n",
              "      <td>0.000000</td>\n",
              "    </tr>\n",
              "    <tr>\n",
              "      <th>50%</th>\n",
              "      <td>56.000000</td>\n",
              "      <td>1.000000</td>\n",
              "      <td>2.000000</td>\n",
              "      <td>130.000000</td>\n",
              "      <td>241.000000</td>\n",
              "      <td>0.000000</td>\n",
              "      <td>1.000000</td>\n",
              "      <td>153.000000</td>\n",
              "      <td>0.000000</td>\n",
              "      <td>0.800000</td>\n",
              "      <td>1.000000</td>\n",
              "      <td>0.000000</td>\n",
              "      <td>1.000000</td>\n",
              "      <td>0.000000</td>\n",
              "    </tr>\n",
              "    <tr>\n",
              "      <th>75%</th>\n",
              "      <td>61.000000</td>\n",
              "      <td>1.000000</td>\n",
              "      <td>3.000000</td>\n",
              "      <td>140.000000</td>\n",
              "      <td>275.000000</td>\n",
              "      <td>0.000000</td>\n",
              "      <td>2.000000</td>\n",
              "      <td>166.000000</td>\n",
              "      <td>1.000000</td>\n",
              "      <td>1.600000</td>\n",
              "      <td>1.000000</td>\n",
              "      <td>1.000000</td>\n",
              "      <td>3.000000</td>\n",
              "      <td>1.000000</td>\n",
              "    </tr>\n",
              "    <tr>\n",
              "      <th>max</th>\n",
              "      <td>77.000000</td>\n",
              "      <td>1.000000</td>\n",
              "      <td>3.000000</td>\n",
              "      <td>200.000000</td>\n",
              "      <td>564.000000</td>\n",
              "      <td>1.000000</td>\n",
              "      <td>2.000000</td>\n",
              "      <td>202.000000</td>\n",
              "      <td>1.000000</td>\n",
              "      <td>6.200000</td>\n",
              "      <td>2.000000</td>\n",
              "      <td>3.000000</td>\n",
              "      <td>3.000000</td>\n",
              "      <td>1.000000</td>\n",
              "    </tr>\n",
              "  </tbody>\n",
              "</table>\n",
              "</div>"
            ],
            "text/plain": [
              "              age         sex          cp    trestbps        chol         fbs  \\\n",
              "count  303.000000  303.000000  303.000000  303.000000  303.000000  303.000000   \n",
              "mean    54.438944    0.679868    2.158416  131.689769  246.693069    0.148515   \n",
              "std      9.038662    0.467299    0.960126   17.599748   51.776918    0.356198   \n",
              "min     29.000000    0.000000    0.000000   94.000000  126.000000    0.000000   \n",
              "25%     48.000000    0.000000    2.000000  120.000000  211.000000    0.000000   \n",
              "50%     56.000000    1.000000    2.000000  130.000000  241.000000    0.000000   \n",
              "75%     61.000000    1.000000    3.000000  140.000000  275.000000    0.000000   \n",
              "max     77.000000    1.000000    3.000000  200.000000  564.000000    1.000000   \n",
              "\n",
              "          restecg     thalach       exang     oldpeak       slope          ca  \\\n",
              "count  303.000000  303.000000  303.000000  303.000000  303.000000  303.000000   \n",
              "mean     0.990099  149.607261    0.326733    1.039604    0.600660    0.663366   \n",
              "std      0.994971   22.875003    0.469794    1.161075    0.616226    0.934375   \n",
              "min      0.000000   71.000000    0.000000    0.000000    0.000000    0.000000   \n",
              "25%      0.000000  133.500000    0.000000    0.000000    0.000000    0.000000   \n",
              "50%      1.000000  153.000000    0.000000    0.800000    1.000000    0.000000   \n",
              "75%      2.000000  166.000000    1.000000    1.600000    1.000000    1.000000   \n",
              "max      2.000000  202.000000    1.000000    6.200000    2.000000    3.000000   \n",
              "\n",
              "             thal      target  \n",
              "count  303.000000  303.000000  \n",
              "mean     1.831683    0.458746  \n",
              "std      0.956705    0.499120  \n",
              "min      1.000000    0.000000  \n",
              "25%      1.000000    0.000000  \n",
              "50%      1.000000    0.000000  \n",
              "75%      3.000000    1.000000  \n",
              "max      3.000000    1.000000  "
            ]
          },
          "execution_count": 7,
          "metadata": {},
          "output_type": "execute_result"
        }
      ],
      "source": [
        "heart.describe()"
      ]
    },
    {
      "cell_type": "markdown",
      "metadata": {
        "id": "RMCU60ZO35UL"
      },
      "source": [
        "Unique values per feature"
      ]
    },
    {
      "cell_type": "code",
      "execution_count": null,
      "metadata": {
        "colab": {
          "base_uri": "https://localhost:8080/",
          "height": 523
        },
        "id": "WpCtKuyF3voB",
        "outputId": "01e02bcd-c324-49ed-ec8e-04308e8866e3"
      },
      "outputs": [
        {
          "data": {
            "text/plain": [
              "age          41\n",
              "sex           2\n",
              "cp            4\n",
              "trestbps     50\n",
              "chol        152\n",
              "fbs           2\n",
              "restecg       3\n",
              "thalach      91\n",
              "exang         2\n",
              "oldpeak      40\n",
              "slope         3\n",
              "ca            4\n",
              "thal          3\n",
              "target        2\n",
              "dtype: int64"
            ]
          },
          "execution_count": 8,
          "metadata": {},
          "output_type": "execute_result"
        }
      ],
      "source": [
        "heart.nunique()\n"
      ]
    },
    {
      "cell_type": "code",
      "execution_count": null,
      "metadata": {
        "colab": {
          "base_uri": "https://localhost:8080/",
          "height": 206
        },
        "id": "FgTwYX59vUCd",
        "outputId": "efaff6cd-6ca0-4683-8721-50496c08b72b"
      },
      "outputs": [
        {
          "data": {
            "text/html": [
              "<div>\n",
              "<style scoped>\n",
              "    .dataframe tbody tr th:only-of-type {\n",
              "        vertical-align: middle;\n",
              "    }\n",
              "\n",
              "    .dataframe tbody tr th {\n",
              "        vertical-align: top;\n",
              "    }\n",
              "\n",
              "    .dataframe thead th {\n",
              "        text-align: right;\n",
              "    }\n",
              "</style>\n",
              "<table border=\"1\" class=\"dataframe\">\n",
              "  <thead>\n",
              "    <tr style=\"text-align: right;\">\n",
              "      <th></th>\n",
              "      <th>age</th>\n",
              "      <th>sex</th>\n",
              "      <th>cp</th>\n",
              "      <th>trestbps</th>\n",
              "      <th>chol</th>\n",
              "      <th>fbs</th>\n",
              "      <th>restecg</th>\n",
              "      <th>thalach</th>\n",
              "      <th>exang</th>\n",
              "      <th>oldpeak</th>\n",
              "      <th>slope</th>\n",
              "      <th>ca</th>\n",
              "      <th>thal</th>\n",
              "      <th>target</th>\n",
              "    </tr>\n",
              "  </thead>\n",
              "  <tbody>\n",
              "    <tr>\n",
              "      <th>0</th>\n",
              "      <td>63</td>\n",
              "      <td>1</td>\n",
              "      <td>0</td>\n",
              "      <td>145</td>\n",
              "      <td>233</td>\n",
              "      <td>1</td>\n",
              "      <td>2</td>\n",
              "      <td>150</td>\n",
              "      <td>0</td>\n",
              "      <td>2.3</td>\n",
              "      <td>2</td>\n",
              "      <td>0</td>\n",
              "      <td>2</td>\n",
              "      <td>0</td>\n",
              "    </tr>\n",
              "    <tr>\n",
              "      <th>1</th>\n",
              "      <td>67</td>\n",
              "      <td>1</td>\n",
              "      <td>3</td>\n",
              "      <td>160</td>\n",
              "      <td>286</td>\n",
              "      <td>0</td>\n",
              "      <td>2</td>\n",
              "      <td>108</td>\n",
              "      <td>1</td>\n",
              "      <td>1.5</td>\n",
              "      <td>1</td>\n",
              "      <td>3</td>\n",
              "      <td>1</td>\n",
              "      <td>1</td>\n",
              "    </tr>\n",
              "    <tr>\n",
              "      <th>2</th>\n",
              "      <td>67</td>\n",
              "      <td>1</td>\n",
              "      <td>3</td>\n",
              "      <td>120</td>\n",
              "      <td>229</td>\n",
              "      <td>0</td>\n",
              "      <td>2</td>\n",
              "      <td>129</td>\n",
              "      <td>1</td>\n",
              "      <td>2.6</td>\n",
              "      <td>1</td>\n",
              "      <td>2</td>\n",
              "      <td>3</td>\n",
              "      <td>1</td>\n",
              "    </tr>\n",
              "    <tr>\n",
              "      <th>3</th>\n",
              "      <td>37</td>\n",
              "      <td>1</td>\n",
              "      <td>2</td>\n",
              "      <td>130</td>\n",
              "      <td>250</td>\n",
              "      <td>0</td>\n",
              "      <td>0</td>\n",
              "      <td>187</td>\n",
              "      <td>0</td>\n",
              "      <td>3.5</td>\n",
              "      <td>2</td>\n",
              "      <td>0</td>\n",
              "      <td>1</td>\n",
              "      <td>0</td>\n",
              "    </tr>\n",
              "    <tr>\n",
              "      <th>4</th>\n",
              "      <td>41</td>\n",
              "      <td>0</td>\n",
              "      <td>1</td>\n",
              "      <td>130</td>\n",
              "      <td>204</td>\n",
              "      <td>0</td>\n",
              "      <td>2</td>\n",
              "      <td>172</td>\n",
              "      <td>0</td>\n",
              "      <td>1.4</td>\n",
              "      <td>0</td>\n",
              "      <td>0</td>\n",
              "      <td>1</td>\n",
              "      <td>0</td>\n",
              "    </tr>\n",
              "  </tbody>\n",
              "</table>\n",
              "</div>"
            ],
            "text/plain": [
              "   age  sex  cp  trestbps  chol  fbs  restecg  thalach  exang  oldpeak  slope  \\\n",
              "0   63    1   0       145   233    1        2      150      0      2.3      2   \n",
              "1   67    1   3       160   286    0        2      108      1      1.5      1   \n",
              "2   67    1   3       120   229    0        2      129      1      2.6      1   \n",
              "3   37    1   2       130   250    0        0      187      0      3.5      2   \n",
              "4   41    0   1       130   204    0        2      172      0      1.4      0   \n",
              "\n",
              "   ca  thal  target  \n",
              "0   0     2       0  \n",
              "1   3     1       1  \n",
              "2   2     3       1  \n",
              "3   0     1       0  \n",
              "4   0     1       0  "
            ]
          },
          "execution_count": 9,
          "metadata": {},
          "output_type": "execute_result"
        }
      ],
      "source": [
        "heart.head()"
      ]
    },
    {
      "cell_type": "markdown",
      "metadata": {
        "id": "sitL33qN2QM9"
      },
      "source": [
        "Preprocessing"
      ]
    },
    {
      "cell_type": "code",
      "execution_count": null,
      "metadata": {
        "id": "H2H7FzT6w5UF"
      },
      "outputs": [],
      "source": [
        "# Defining column groups\n",
        "categorical_cols = ['sex', 'cp', 'fbs', 'restecg', 'exang', 'slope', 'ca', 'thal']\n",
        "numerical_cols = ['age', 'trestbps', 'chol', 'thalach', 'oldpeak']\n",
        "\n",
        "\n",
        "\n",
        "X = heart.drop(\"target\", axis=1)\n",
        "y = heart[\"target\"]\n"
      ]
    },
    {
      "cell_type": "code",
      "execution_count": null,
      "metadata": {
        "id": "hGIkEJrtxFjg"
      },
      "outputs": [],
      "source": [
        "preprocessor = ColumnTransformer(transformers=[\n",
        "    ('num', MinMaxScaler(), numerical_cols),\n",
        "    ('ohe', OneHotEncoder(), categorical_cols)\n",
        "])\n",
        "\n",
        "X_processed = preprocessor.fit_transform(X)\n",
        "\n",
        "# Converting back to DataFrame with proper column names\n",
        "num_features = numerical_cols\n",
        "cat_features = preprocessor.named_transformers_['ohe'].get_feature_names_out(categorical_cols)\n",
        "all_features = list(num_features) + list(cat_features)\n",
        "\n",
        "X_processed_df = pd.DataFrame(X_processed, columns=all_features)\n",
        "\n"
      ]
    },
    {
      "cell_type": "code",
      "execution_count": null,
      "metadata": {
        "id": "zqoe765GxFjg",
        "outputId": "c416f66b-be0c-4e55-e0a9-2588b217a749"
      },
      "outputs": [
        {
          "name": "stdout",
          "output_type": "stream",
          "text": [
            "        age  trestbps      chol   thalach   oldpeak  sex_0  sex_1  cp_0  cp_1  \\\n",
            "0  0.708333  0.481132  0.244292  0.603053  0.370968    0.0    1.0   1.0   0.0   \n",
            "1  0.791667  0.622642  0.365297  0.282443  0.241935    0.0    1.0   0.0   0.0   \n",
            "2  0.791667  0.245283  0.235160  0.442748  0.419355    0.0    1.0   0.0   0.0   \n",
            "3  0.166667  0.339623  0.283105  0.885496  0.564516    0.0    1.0   0.0   0.0   \n",
            "4  0.250000  0.339623  0.178082  0.770992  0.225806    1.0    0.0   0.0   1.0   \n",
            "\n",
            "   cp_2  ...  slope_1  slope_2  ca_0  ca_1  ca_2  ca_3  thal_1  thal_2  \\\n",
            "0   0.0  ...      0.0      1.0   1.0   0.0   0.0   0.0     0.0     1.0   \n",
            "1   0.0  ...      1.0      0.0   0.0   0.0   0.0   1.0     1.0     0.0   \n",
            "2   0.0  ...      1.0      0.0   0.0   0.0   1.0   0.0     0.0     0.0   \n",
            "3   1.0  ...      0.0      1.0   1.0   0.0   0.0   0.0     1.0     0.0   \n",
            "4   0.0  ...      0.0      0.0   1.0   0.0   0.0   0.0     1.0     0.0   \n",
            "\n",
            "   thal_3  target  \n",
            "0     0.0       0  \n",
            "1     0.0       1  \n",
            "2     1.0       1  \n",
            "3     0.0       0  \n",
            "4     0.0       0  \n",
            "\n",
            "[5 rows x 29 columns]\n",
            "Shape of preprocessed dataset: (303, 29)\n"
          ]
        }
      ],
      "source": [
        "# Adding target column\n",
        "heart_preprocessed = pd.concat([X_processed_df, y.reset_index(drop=True)], axis=1)\n",
        "\n",
        "print(heart_preprocessed.head())\n",
        "\n",
        "print(\"Shape of preprocessed dataset:\", heart_preprocessed.shape)"
      ]
    },
    {
      "cell_type": "markdown",
      "metadata": {
        "id": "vvy6AVYB-ili"
      },
      "source": [
        "Splitting data into training and testing"
      ]
    },
    {
      "cell_type": "code",
      "execution_count": null,
      "metadata": {
        "colab": {
          "base_uri": "https://localhost:8080/"
        },
        "id": "0ECJ7qx8-TGq",
        "outputId": "aed55e17-0b4d-4e30-d97e-b3276838978a"
      },
      "outputs": [
        {
          "name": "stdout",
          "output_type": "stream",
          "text": [
            "Training set shape: (242, 28)\n",
            "Testing set shape: (61, 28)\n"
          ]
        }
      ],
      "source": [
        "from sklearn.model_selection import train_test_split\n",
        "\n",
        "# Separating features and target\n",
        "X = heart_preprocessed.drop('target', axis=1)\n",
        "y = heart_preprocessed['target']\n",
        "# 80 20 split\n",
        "X_train, X_test, y_train, y_test = train_test_split(X, y, test_size=0.2, random_state=42, stratify=y)\n",
        "\n",
        "print(\"Training set shape:\", X_train.shape)\n",
        "print(\"Testing set shape:\", X_test.shape)\n"
      ]
    },
    {
      "cell_type": "markdown",
      "metadata": {
        "id": "pEu_F5K1-zvD"
      },
      "source": [
        "**Model Implementation**"
      ]
    },
    {
      "cell_type": "markdown",
      "metadata": {
        "id": "IrgwYRjICSU_"
      },
      "source": [
        "Logistic Regression"
      ]
    },
    {
      "cell_type": "code",
      "execution_count": null,
      "metadata": {
        "colab": {
          "base_uri": "https://localhost:8080/"
        },
        "id": "UE-joXMaCQqE",
        "outputId": "7b862ac7-0d81-4620-d29e-7362d2418b6f"
      },
      "outputs": [
        {
          "name": "stdout",
          "output_type": "stream",
          "text": [
            "Accuracy: 0.8852459016393442\n",
            "\n",
            "Error Rate: 0.11475409836065575\n",
            "\n",
            "Confusion Matrix:\n",
            " [[28  5]\n",
            " [ 2 26]]\n",
            "\n",
            "Classification Report:\n",
            "               precision    recall  f1-score   support\n",
            "\n",
            "           0       0.93      0.85      0.89        33\n",
            "           1       0.84      0.93      0.88        28\n",
            "\n",
            "    accuracy                           0.89        61\n",
            "   macro avg       0.89      0.89      0.89        61\n",
            "weighted avg       0.89      0.89      0.89        61\n",
            "\n"
          ]
        }
      ],
      "source": [
        "from sklearn.linear_model import LogisticRegression\n",
        "# Initializing model\n",
        "lr_model1 = LogisticRegression(max_iter=1000)\n",
        "\n",
        "lr_model1.fit(X_train, y_train)\n",
        "\n",
        "# Predict on test set\n",
        "y_pred_lr1 = lr_model1.predict(X_test)\n",
        "# acc_lr1 = accuracy_score(y_test, y_pred_lr1)\n",
        "# Evaluate performance\n",
        "print(\"Accuracy:\", accuracy_score(y_test, y_pred_lr1))\n",
        "print(\"\\nError Rate:\", 1-accuracy_score(y_test, y_pred_lr1))\n",
        "print(\"\\nConfusion Matrix:\\n\", confusion_matrix(y_test, y_pred_lr1))\n",
        "print(\"\\nClassification Report:\\n\", classification_report(y_test, y_pred_lr1))\n"
      ]
    },
    {
      "cell_type": "code",
      "execution_count": null,
      "metadata": {
        "id": "DNNz6MrFxFjj",
        "outputId": "899cff0d-282a-4d8c-eabe-c777044c0150"
      },
      "outputs": [
        {
          "name": "stderr",
          "output_type": "stream",
          "text": [
            "2025/05/26 02:06:16 WARNING mlflow.models.model: Model logged without a signature and input example. Please set `input_example` parameter when logging the model to auto infer the model signature.\n"
          ]
        },
        {
          "name": "stdout",
          "output_type": "stream",
          "text": [
            "\n",
            "Logistic Regression model has been logged to MLflow.\n",
            "🏃 View run Logistic Regression Classifier Heart at: http://127.0.0.1:5000/#/experiments/199802906115654468/runs/c20344bd68384c819fb5b8e75354a958\n",
            "🧪 View experiment at: http://127.0.0.1:5000/#/experiments/199802906115654468\n"
          ]
        }
      ],
      "source": [
        "import mlflow\n",
        "import mlflow.sklearn\n",
        "mlflow.set_tracking_uri(\"http://127.0.0.1:5000\")\n",
        "mlflow.set_experiment(\"Logistic Regression Single Model\")\n",
        "\n",
        "with mlflow.start_run(run_name=\"Logistic Regression Classifier Heart\"):\n",
        "\n",
        "    y_pred_lr1 = lr_model1.predict(X_test)\n",
        "\n",
        "    # Evaluation\n",
        "    accuracy = accuracy_score(y_test, y_pred_lr1)\n",
        "    error_rate = 1 - accuracy\n",
        "\n",
        "    # Log model parameters\n",
        "    mlflow.log_param(\"model\", \"LogisticRegression\")\n",
        "    mlflow.log_param(\"max_iter\", 1000)\n",
        "    mlflow.log_param(\"test_size\", 0.2)\n",
        "\n",
        "    # Log model performance metrics\n",
        "    mlflow.log_metric(\"accuracy\", accuracy)\n",
        "    mlflow.log_metric(\"error_rate\", error_rate)\n",
        "\n",
        "    # Log the model itself\n",
        "    mlflow.sklearn.log_model(lr_model1, \"Logistic_Regression_Model_Heart\")\n",
        "\n",
        "    print(\"\\nLogistic Regression model has been logged to MLflow.\")\n"
      ]
    },
    {
      "cell_type": "markdown",
      "metadata": {
        "id": "We3u10kBCucD"
      },
      "source": [
        "Decision Tree"
      ]
    },
    {
      "cell_type": "code",
      "execution_count": null,
      "metadata": {
        "colab": {
          "base_uri": "https://localhost:8080/"
        },
        "id": "t0h4eW3pCv-Q",
        "outputId": "1fa08662-122d-439b-956a-89847470375d"
      },
      "outputs": [
        {
          "name": "stdout",
          "output_type": "stream",
          "text": [
            "Decision Tree Accuracy: 0.7377049180327869\n",
            "\n",
            "Decision Tree Confusion Matrix:\n",
            " [[22 11]\n",
            " [ 5 23]]\n",
            "Error Rate: 0.2623\n",
            "\n",
            "Decision Tree Classification Report:\n",
            "               precision    recall  f1-score   support\n",
            "\n",
            "           0       0.81      0.67      0.73        33\n",
            "           1       0.68      0.82      0.74        28\n",
            "\n",
            "    accuracy                           0.74        61\n",
            "   macro avg       0.75      0.74      0.74        61\n",
            "weighted avg       0.75      0.74      0.74        61\n",
            "\n"
          ]
        }
      ],
      "source": [
        "from sklearn.tree import DecisionTreeClassifier\n",
        "\n",
        "dt_model1 = DecisionTreeClassifier(random_state=42)\n",
        "\n",
        "# Train the model\n",
        "dt_model1.fit(X_train, y_train)\n",
        "\n",
        "# Predict on test set\n",
        "y_pred_dt1 = dt_model1.predict(X_test)\n",
        "error_rate = 1-accuracy_score(y_test, y_pred_dt1)\n",
        "# Evaluate performance\n",
        "print(\"Decision Tree Accuracy:\", accuracy_score(y_test, y_pred_dt1))\n",
        "print(\"\\nDecision Tree Confusion Matrix:\\n\", confusion_matrix(y_test, y_pred_dt1))\n",
        "print(f\"Error Rate: {error_rate:.4f}\")\n",
        "print(\"\\nDecision Tree Classification Report:\\n\", classification_report(y_test, y_pred_dt1))\n"
      ]
    },
    {
      "cell_type": "code",
      "execution_count": null,
      "metadata": {
        "id": "Q0q5QvRkxFjk",
        "outputId": "7943baf2-732f-4d60-e115-b29f9f5c8038"
      },
      "outputs": [
        {
          "name": "stderr",
          "output_type": "stream",
          "text": [
            "2025/05/26 02:07:13 WARNING mlflow.models.model: Model logged without a signature and input example. Please set `input_example` parameter when logging the model to auto infer the model signature.\n"
          ]
        },
        {
          "name": "stdout",
          "output_type": "stream",
          "text": [
            "\n",
            "Decision Tree model has been logged to MLflow.\n",
            "🏃 View run Decision Tree Classifier Heart at: http://127.0.0.1:5000/#/experiments/867504733373174529/runs/b45e31f9d31d4bbca471fa0fd913866e\n",
            "🧪 View experiment at: http://127.0.0.1:5000/#/experiments/867504733373174529\n"
          ]
        }
      ],
      "source": [
        "mlflow.set_tracking_uri(\"http://127.0.0.1:5000\")\n",
        "mlflow.set_experiment(\"Decision Tree Single Model\")\n",
        "\n",
        "with mlflow.start_run(run_name=\"Decision Tree Classifier Heart\"):\n",
        "\n",
        "    # Evaluation\n",
        "    accuracy = accuracy_score(y_test, y_pred_dt1)\n",
        "    error_rate = 1 - accuracy\n",
        "\n",
        "    # Log model parameters\n",
        "    mlflow.log_param(\"model\", \"DecisionTree\")\n",
        "    mlflow.log_param(\"random_state\", 42)\n",
        "    mlflow.log_param(\"test_size\", 0.2)\n",
        "\n",
        "    # Log model performance metrics\n",
        "    mlflow.log_metric(\"accuracy\", accuracy)\n",
        "    mlflow.log_metric(\"error_rate\", error_rate)\n",
        "\n",
        "    # Log the model itself\n",
        "    mlflow.sklearn.log_model(dt_model1, \"Decision_Tree_Model_Heart\")\n",
        "\n",
        "    print(\"\\nDecision Tree model has been logged to MLflow.\")"
      ]
    },
    {
      "cell_type": "markdown",
      "metadata": {
        "id": "8q6OjFiADuYs"
      },
      "source": [
        "Random Forest"
      ]
    },
    {
      "cell_type": "code",
      "execution_count": null,
      "metadata": {
        "colab": {
          "base_uri": "https://localhost:8080/"
        },
        "id": "y4xogGLFDv78",
        "outputId": "4896635a-495d-4a6a-9cc7-7ada3818a4f9"
      },
      "outputs": [
        {
          "name": "stdout",
          "output_type": "stream",
          "text": [
            "Random Forest Accuracy: 0.8688524590163934\n",
            "Error Rate: 0.1311\n",
            "\n",
            "Random Forest Confusion Matrix:\n",
            " [[27  6]\n",
            " [ 2 26]]\n",
            "\n",
            "Random Forest Classification Report:\n",
            "               precision    recall  f1-score   support\n",
            "\n",
            "           0       0.93      0.82      0.87        33\n",
            "           1       0.81      0.93      0.87        28\n",
            "\n",
            "    accuracy                           0.87        61\n",
            "   macro avg       0.87      0.87      0.87        61\n",
            "weighted avg       0.88      0.87      0.87        61\n",
            "\n"
          ]
        }
      ],
      "source": [
        "from sklearn.ensemble import RandomForestClassifier\n",
        "\n",
        "rf_model1 = RandomForestClassifier(n_estimators=100, random_state=42)\n",
        "\n",
        "# Training\n",
        "rf_model1.fit(X_train, y_train)\n",
        "\n",
        "# Predicting\n",
        "y_pred_rf1 = rf_model1.predict(X_test)\n",
        "error_rate = 1-accuracy_score(y_test, y_pred_rf1)\n",
        "# Evaluate performance\n",
        "print(\"Random Forest Accuracy:\", accuracy_score(y_test, y_pred_rf1))\n",
        "print(f\"Error Rate: {error_rate:.4f}\")\n",
        "print(\"\\nRandom Forest Confusion Matrix:\\n\", confusion_matrix(y_test, y_pred_rf1))\n",
        "print(\"\\nRandom Forest Classification Report:\\n\", classification_report(y_test, y_pred_rf1))\n"
      ]
    },
    {
      "cell_type": "code",
      "execution_count": null,
      "metadata": {
        "id": "EGniu3FXxFjl",
        "outputId": "6136023f-e15b-4bd8-a454-220e28f29cde"
      },
      "outputs": [
        {
          "name": "stderr",
          "output_type": "stream",
          "text": [
            "2025/05/26 02:08:30 INFO mlflow.tracking.fluent: Experiment with name 'Random Forest Single Model' does not exist. Creating a new experiment.\n",
            "2025/05/26 02:08:39 WARNING mlflow.models.model: Model logged without a signature and input example. Please set `input_example` parameter when logging the model to auto infer the model signature.\n"
          ]
        },
        {
          "name": "stdout",
          "output_type": "stream",
          "text": [
            "\n",
            "Random Forest model has been logged to MLflow.\n",
            "🏃 View run Random Forest Classifier Heart at: http://127.0.0.1:5000/#/experiments/271734259084106038/runs/97530d17a381419bb019170295d6e6f6\n",
            "🧪 View experiment at: http://127.0.0.1:5000/#/experiments/271734259084106038\n"
          ]
        }
      ],
      "source": [
        "mlflow.set_tracking_uri(\"http://127.0.0.1:5000\")\n",
        "mlflow.set_experiment(\"Random Forest Single Model\")\n",
        "\n",
        "with mlflow.start_run(run_name=\"Random Forest Classifier Heart\"):\n",
        "\n",
        "    accuracy = accuracy_score(y_test, y_pred_rf1)\n",
        "    error_rate = 1 - accuracy\n",
        "\n",
        "    mlflow.log_param(\"model\", \"RandomForest\")\n",
        "    mlflow.log_param(\"random_state\", 42)\n",
        "    mlflow.log_param(\"n_estimators\", rf_model1.n_estimators if hasattr(rf_model1, 'n_estimators') else None)\n",
        "    mlflow.log_param(\"test_size\", 0.2)\n",
        "\n",
        "    mlflow.log_metric(\"accuracy\", accuracy)\n",
        "    mlflow.log_metric(\"error_rate\", error_rate)\n",
        "\n",
        "    mlflow.sklearn.log_model(rf_model1, \"Random_Forest_Model_Heart\")\n",
        "\n",
        "    print(\"\\nRandom Forest model has been logged to MLflow.\")"
      ]
    },
    {
      "cell_type": "markdown",
      "metadata": {
        "id": "ZRH0LfOFKqo6"
      },
      "source": [
        "Naive Bayes"
      ]
    },
    {
      "cell_type": "code",
      "execution_count": null,
      "metadata": {
        "colab": {
          "base_uri": "https://localhost:8080/"
        },
        "id": "CNfeNSI9KsVX",
        "outputId": "6fcfe901-06c5-4021-885c-37d8aea30d6b"
      },
      "outputs": [
        {
          "name": "stdout",
          "output_type": "stream",
          "text": [
            "Naive Bayes Accuracy: 0.6721311475409836\n",
            "Error Rate: 0.3279\n",
            "\n",
            "Naive Bayes Confusion Matrix:\n",
            " [[16 17]\n",
            " [ 3 25]]\n",
            "\n",
            "Naive Bayes Classification Report:\n",
            "               precision    recall  f1-score   support\n",
            "\n",
            "           0       0.84      0.48      0.62        33\n",
            "           1       0.60      0.89      0.71        28\n",
            "\n",
            "    accuracy                           0.67        61\n",
            "   macro avg       0.72      0.69      0.66        61\n",
            "weighted avg       0.73      0.67      0.66        61\n",
            "\n"
          ]
        }
      ],
      "source": [
        "from sklearn.naive_bayes import GaussianNB\n",
        "\n",
        "nb_model1 = GaussianNB()\n",
        "\n",
        "# Training\n",
        "nb_model1.fit(X_train, y_train)\n",
        "\n",
        "# Predicting\n",
        "y_pred_nb1 = nb_model1.predict(X_test)\n",
        "error_rate = 1-accuracy_score(y_test, y_pred_nb1)\n",
        "# Evaluate performance\n",
        "print(\"Naive Bayes Accuracy:\", accuracy_score(y_test, y_pred_nb1))\n",
        "print(f\"Error Rate: {error_rate:.4f}\")\n",
        "print(\"\\nNaive Bayes Confusion Matrix:\\n\", confusion_matrix(y_test, y_pred_nb1))\n",
        "print(\"\\nNaive Bayes Classification Report:\\n\", classification_report(y_test, y_pred_nb1))\n"
      ]
    },
    {
      "cell_type": "code",
      "execution_count": null,
      "metadata": {
        "id": "tt9kpWJZxFjm",
        "outputId": "8a467ce9-753f-4973-c83d-6d3e257678e9"
      },
      "outputs": [
        {
          "name": "stderr",
          "output_type": "stream",
          "text": [
            "2025/05/26 02:10:16 INFO mlflow.tracking.fluent: Experiment with name 'Naive Bayes Single Model' does not exist. Creating a new experiment.\n",
            "2025/05/26 02:10:25 WARNING mlflow.models.model: Model logged without a signature and input example. Please set `input_example` parameter when logging the model to auto infer the model signature.\n"
          ]
        },
        {
          "name": "stdout",
          "output_type": "stream",
          "text": [
            "\n",
            "Naive Bayes model has been logged to MLflow.\n",
            "🏃 View run Naive Bayes Classifier Heart at: http://127.0.0.1:5000/#/experiments/785553476594201575/runs/2fdca1c5a1f2447785f4021441250ec5\n",
            "🧪 View experiment at: http://127.0.0.1:5000/#/experiments/785553476594201575\n"
          ]
        }
      ],
      "source": [
        "mlflow.set_tracking_uri(\"http://127.0.0.1:5000\")\n",
        "mlflow.set_experiment(\"Naive Bayes Single Model\")\n",
        "\n",
        "with mlflow.start_run(run_name=\"Naive Bayes Classifier Heart\"):\n",
        "\n",
        "    # Evaluation metrics\n",
        "    accuracy = accuracy_score(y_test, y_pred_nb1)\n",
        "    error_rate = 1 - accuracy\n",
        "\n",
        "    # Log model parameters\n",
        "    mlflow.log_param(\"model\", \"GaussianNB\")\n",
        "    mlflow.log_param(\"test_size\", 0.2)\n",
        "\n",
        "    # Log model performance metrics\n",
        "    mlflow.log_metric(\"accuracy\", accuracy)\n",
        "    mlflow.log_metric(\"error_rate\", error_rate)\n",
        "\n",
        "    # Log the model itself\n",
        "    mlflow.sklearn.log_model(nb_model1, \"Naive_Bayes_Model_Heart\")\n",
        "\n",
        "    print(\"\\nNaive Bayes model has been logged to MLflow.\")"
      ]
    },
    {
      "cell_type": "markdown",
      "metadata": {
        "id": "xexQNcDFKged"
      },
      "source": [
        "KNN"
      ]
    },
    {
      "cell_type": "code",
      "execution_count": null,
      "metadata": {
        "colab": {
          "base_uri": "https://localhost:8080/"
        },
        "id": "G4cy5AIwKhos",
        "outputId": "15188a77-8bd4-4769-b9b8-6f44137d7894"
      },
      "outputs": [
        {
          "name": "stdout",
          "output_type": "stream",
          "text": [
            "KNN Accuracy: 0.9016393442622951\n",
            "Error Rate: 0.0984\n",
            "\n",
            "KNN Confusion Matrix:\n",
            " [[28  5]\n",
            " [ 1 27]]\n",
            "\n",
            "KNN Classification Report:\n",
            "               precision    recall  f1-score   support\n",
            "\n",
            "           0       0.97      0.85      0.90        33\n",
            "           1       0.84      0.96      0.90        28\n",
            "\n",
            "    accuracy                           0.90        61\n",
            "   macro avg       0.90      0.91      0.90        61\n",
            "weighted avg       0.91      0.90      0.90        61\n",
            "\n"
          ]
        }
      ],
      "source": [
        "from sklearn.neighbors import KNeighborsClassifier\n",
        "\n",
        "knn_model1 = KNeighborsClassifier(n_neighbors=5)\n",
        "\n",
        "# Training\n",
        "knn_model1.fit(X_train, y_train)\n",
        "\n",
        "# Predicting\n",
        "y_pred_knn1 = knn_model1.predict(X_test)\n",
        "error_rate = 1-accuracy_score(y_test, y_pred_knn1)\n",
        "# Evaluate performance\n",
        "print(\"KNN Accuracy:\", accuracy_score(y_test, y_pred_knn1))\n",
        "print(f\"Error Rate: {error_rate:.4f}\")\n",
        "print(\"\\nKNN Confusion Matrix:\\n\", confusion_matrix(y_test, y_pred_knn1))\n",
        "print(\"\\nKNN Classification Report:\\n\", classification_report(y_test, y_pred_knn1))\n"
      ]
    },
    {
      "cell_type": "code",
      "execution_count": null,
      "metadata": {
        "id": "me8Z-4HtxFjo",
        "outputId": "7b913b84-8947-421e-ae0b-6d5a3f378934"
      },
      "outputs": [
        {
          "name": "stderr",
          "output_type": "stream",
          "text": [
            "2025/05/26 02:11:27 WARNING mlflow.models.model: Model logged without a signature and input example. Please set `input_example` parameter when logging the model to auto infer the model signature.\n"
          ]
        },
        {
          "name": "stdout",
          "output_type": "stream",
          "text": [
            "\n",
            "KNN model has been logged to MLflow.\n",
            "🏃 View run KNN Classifier Heart at: http://127.0.0.1:5000/#/experiments/943896704130806294/runs/c83eb332476948f0a0038c9fd5153dc2\n",
            "🧪 View experiment at: http://127.0.0.1:5000/#/experiments/943896704130806294\n"
          ]
        }
      ],
      "source": [
        "mlflow.set_tracking_uri(\"http://127.0.0.1:5000\")\n",
        "mlflow.set_experiment(\"KNN Single Model\")\n",
        "\n",
        "with mlflow.start_run(run_name=\"KNN Classifier Heart\"):\n",
        "\n",
        "    accuracy = accuracy_score(y_test, y_pred_knn1)\n",
        "    error_rate = 1 - accuracy\n",
        "\n",
        "    mlflow.log_param(\"model\", \"KNeighborsClassifier\")\n",
        "    mlflow.log_param(\"n_neighbors\", knn_model1.n_neighbors)\n",
        "    mlflow.log_param(\"test_size\", 0.2)\n",
        "\n",
        "    mlflow.log_metric(\"accuracy\", accuracy)\n",
        "    mlflow.log_metric(\"error_rate\", error_rate)\n",
        "\n",
        "    mlflow.sklearn.log_model(knn_model1, \"KNN_Model_Heart\")\n",
        "\n",
        "    print(\"\\nKNN model has been logged to MLflow.\")"
      ]
    },
    {
      "cell_type": "code",
      "execution_count": null,
      "metadata": {
        "id": "Emyx_dxVxFjo"
      },
      "outputs": [],
      "source": []
    },
    {
      "cell_type": "markdown",
      "metadata": {
        "id": "lTPklZACD778"
      },
      "source": [
        "Support Vector Machine SVM"
      ]
    },
    {
      "cell_type": "code",
      "execution_count": null,
      "metadata": {
        "colab": {
          "base_uri": "https://localhost:8080/"
        },
        "id": "euvu6Pe9EAGp",
        "outputId": "5fcb708a-9dc6-4a2e-ff2c-c6ba0d89c886"
      },
      "outputs": [
        {
          "name": "stdout",
          "output_type": "stream",
          "text": [
            "SVM Accuracy: 0.8688524590163934\n",
            "Error Rate: 0.1311\n",
            "\n",
            "SVM Confusion Matrix:\n",
            " [[28  5]\n",
            " [ 3 25]]\n",
            "\n",
            "SVM Classification Report:\n",
            "               precision    recall  f1-score   support\n",
            "\n",
            "           0       0.90      0.85      0.88        33\n",
            "           1       0.83      0.89      0.86        28\n",
            "\n",
            "    accuracy                           0.87        61\n",
            "   macro avg       0.87      0.87      0.87        61\n",
            "weighted avg       0.87      0.87      0.87        61\n",
            "\n"
          ]
        }
      ],
      "source": [
        "from sklearn.svm import SVC\n",
        "\n",
        "svm_model1 = SVC(kernel='linear', random_state=42)\n",
        "\n",
        "# Training\n",
        "svm_model1.fit(X_train, y_train)\n",
        "\n",
        "# Predicting\n",
        "y_pred_svm1 = svm_model1.predict(X_test)\n",
        "error_rate = 1-accuracy_score(y_test, y_pred_svm1)\n",
        "# Evaluate performance\n",
        "print(\"SVM Accuracy:\", accuracy_score(y_test, y_pred_svm1))\n",
        "print(f\"Error Rate: {error_rate:.4f}\")\n",
        "\n",
        "print(\"\\nSVM Confusion Matrix:\\n\", confusion_matrix(y_test, y_pred_svm1))\n",
        "print(\"\\nSVM Classification Report:\\n\", classification_report(y_test, y_pred_svm1))\n"
      ]
    },
    {
      "cell_type": "code",
      "execution_count": null,
      "metadata": {
        "id": "On6ZyUQUxFjp",
        "outputId": "09c04239-362b-4665-dafc-d6261aea54bf"
      },
      "outputs": [
        {
          "name": "stderr",
          "output_type": "stream",
          "text": [
            "2025/05/26 02:12:11 INFO mlflow.tracking.fluent: Experiment with name 'SVM Single Model' does not exist. Creating a new experiment.\n",
            "2025/05/26 02:12:20 WARNING mlflow.models.model: Model logged without a signature and input example. Please set `input_example` parameter when logging the model to auto infer the model signature.\n"
          ]
        },
        {
          "name": "stdout",
          "output_type": "stream",
          "text": [
            "\n",
            "SVM model has been logged to MLflow.\n",
            "🏃 View run SVM Classifier Heart at: http://127.0.0.1:5000/#/experiments/668369975233403277/runs/1b47652c072e478586f4609687a1eff5\n",
            "🧪 View experiment at: http://127.0.0.1:5000/#/experiments/668369975233403277\n"
          ]
        }
      ],
      "source": [
        "import mlflow\n",
        "import mlflow.sklearn\n",
        "from sklearn.metrics import accuracy_score, f1_score\n",
        "\n",
        "mlflow.set_tracking_uri(\"http://127.0.0.1:5000\")\n",
        "mlflow.set_experiment(\"SVM Single Model\")\n",
        "\n",
        "with mlflow.start_run(run_name=\"SVM Classifier Heart\"):\n",
        "\n",
        "    accuracy = accuracy_score(y_test, y_pred_svm1)\n",
        "    error_rate = 1 - accuracy\n",
        "    f1 = f1_score(y_test, y_pred_svm1, average='macro')\n",
        "\n",
        "    mlflow.log_param(\"model\", \"SVC\")\n",
        "    mlflow.log_param(\"kernel\", svm_model1.kernel)\n",
        "    mlflow.log_param(\"random_state\", 42)\n",
        "    mlflow.log_param(\"test_size\", 0.2)\n",
        "\n",
        "    mlflow.log_metric(\"accuracy\", accuracy)\n",
        "    mlflow.log_metric(\"error_rate\", error_rate)\n",
        "    mlflow.log_metric(\"f1_score\", f1)\n",
        "\n",
        "    mlflow.sklearn.log_model(svm_model1, \"SVM_Model_Heart\")\n",
        "\n",
        "    print(\"\\nSVM model has been logged to MLflow.\")\n"
      ]
    },
    {
      "cell_type": "markdown",
      "metadata": {
        "id": "CHCM6FAc8UYo"
      },
      "source": [
        "NN"
      ]
    },
    {
      "cell_type": "code",
      "execution_count": null,
      "metadata": {
        "colab": {
          "base_uri": "https://localhost:8080/"
        },
        "id": "fTEBjT4k096O",
        "outputId": "0f64c94a-36ea-4813-b6b9-3b93d26ae1da"
      },
      "outputs": [
        {
          "name": "stdout",
          "output_type": "stream",
          "text": [
            "Neural Network Accuracy: 0.8689\n",
            "Error Rate: 0.1311\n",
            "\n",
            "Confusion Matrix:\n",
            " [[27  6]\n",
            " [ 2 26]]\n",
            "Classification Report               precision    recall  f1-score   support\n",
            "\n",
            "           0       0.93      0.82      0.87        33\n",
            "           1       0.81      0.93      0.87        28\n",
            "\n",
            "    accuracy                           0.87        61\n",
            "   macro avg       0.87      0.87      0.87        61\n",
            "weighted avg       0.88      0.87      0.87        61\n",
            "\n"
          ]
        },
        {
          "name": "stderr",
          "output_type": "stream",
          "text": [
            "e:\\python projects\\venv\\Lib\\site-packages\\sklearn\\neural_network\\_multilayer_perceptron.py:691: ConvergenceWarning: Stochastic Optimizer: Maximum iterations (1000) reached and the optimization hasn't converged yet.\n",
            "  warnings.warn(\n"
          ]
        }
      ],
      "source": [
        "from sklearn.neural_network import MLPClassifier\n",
        "\n",
        "nn_model1 = MLPClassifier(hidden_layer_sizes=(100,), max_iter=1000, random_state=42)\n",
        "nn_model1.fit(X_train, y_train)\n",
        "\n",
        "# Predicting\n",
        "y_pred_nn1 = nn_model1.predict(X_test)\n",
        "acc_nn = accuracy_score(y_test, y_pred_nn1)\n",
        "error_rate = 1-accuracy_score(y_test, y_pred_nn1)\n",
        "print(f\"Neural Network Accuracy: {acc_nn:.4f}\")\n",
        "print(f\"Error Rate: {error_rate:.4f}\")\n",
        "print(\"\\nConfusion Matrix:\\n\", confusion_matrix(y_test, y_pred_nn1))\n",
        "print(f\"Classification Report\", classification_report(y_test, y_pred_nn1))"
      ]
    },
    {
      "cell_type": "code",
      "execution_count": null,
      "metadata": {
        "id": "tgRL4xJOxFjq",
        "outputId": "f3b1ffe6-b661-4d41-b69f-24bc9a809ffb"
      },
      "outputs": [
        {
          "name": "stderr",
          "output_type": "stream",
          "text": [
            "2025/05/26 02:12:56 INFO mlflow.tracking.fluent: Experiment with name 'Neural Network Single Model' does not exist. Creating a new experiment.\n",
            "2025/05/26 02:13:06 WARNING mlflow.models.model: Model logged without a signature and input example. Please set `input_example` parameter when logging the model to auto infer the model signature.\n"
          ]
        },
        {
          "name": "stdout",
          "output_type": "stream",
          "text": [
            "\n",
            "Neural Network model has been logged to MLflow.\n",
            "🏃 View run Neural Network Classifier Heart at: http://127.0.0.1:5000/#/experiments/995027035523582845/runs/0f35abb1d29447deacdc7f24998ea682\n",
            "🧪 View experiment at: http://127.0.0.1:5000/#/experiments/995027035523582845\n"
          ]
        }
      ],
      "source": [
        "import mlflow\n",
        "import mlflow.sklearn\n",
        "from sklearn.metrics import accuracy_score, f1_score\n",
        "\n",
        "mlflow.set_tracking_uri(\"http://127.0.0.1:5000\")\n",
        "mlflow.set_experiment(\"Neural Network Single Model\")\n",
        "\n",
        "with mlflow.start_run(run_name=\"Neural Network Classifier Heart\"):\n",
        "\n",
        "    accuracy = accuracy_score(y_test, y_pred_nn1)\n",
        "    error_rate = 1 - accuracy\n",
        "    f1 = f1_score(y_test, y_pred_nn1, average='macro')\n",
        "\n",
        "    mlflow.log_param(\"model\", \"MLPClassifier\")\n",
        "    mlflow.log_param(\"hidden_layer_sizes\", (100,))\n",
        "    mlflow.log_param(\"max_iter\", 1000)\n",
        "    mlflow.log_param(\"random_state\", 42)\n",
        "    mlflow.log_param(\"test_size\", 0.2)\n",
        "\n",
        "    mlflow.log_metric(\"accuracy\", accuracy)\n",
        "    mlflow.log_metric(\"error_rate\", error_rate)\n",
        "    mlflow.log_metric(\"f1_score\", f1)\n",
        "\n",
        "    mlflow.sklearn.log_model(nn_model1, \"Neural_Network_Model_Heart\")\n",
        "\n",
        "    print(\"\\nNeural Network model has been logged to MLflow.\")\n"
      ]
    },
    {
      "cell_type": "markdown",
      "metadata": {
        "id": "fwfKGKaTMXtJ"
      },
      "source": [
        "Hybrid Model Code (NB + RF via Hard Voting):"
      ]
    },
    {
      "cell_type": "markdown",
      "metadata": {
        "id": "lgVTRS3zMmDB"
      },
      "source": [
        "# **Hybrid of RF and LR**"
      ]
    },
    {
      "cell_type": "code",
      "execution_count": null,
      "metadata": {
        "id": "a6d7S8qexFjr",
        "outputId": "6fbb94b0-1a52-41bc-c923-a5a563ec1814"
      },
      "outputs": [
        {
          "name": "stdout",
          "output_type": "stream",
          "text": [
            "Hybrid Model Accuracy: 0.8688524590163934\n",
            "Error Rate: 0.1311475409836066\n",
            "\n",
            "Hybrid Model Classification Report:\n",
            "               precision    recall  f1-score   support\n",
            "\n",
            "           0       0.90      0.85      0.88        33\n",
            "           1       0.83      0.89      0.86        28\n",
            "\n",
            "    accuracy                           0.87        61\n",
            "   macro avg       0.87      0.87      0.87        61\n",
            "weighted avg       0.87      0.87      0.87        61\n",
            "\n",
            "\n",
            "Hybrid Model Confusion Matrix:\n",
            " [[28  5]\n",
            " [ 3 25]]\n"
          ]
        }
      ],
      "source": [
        "from sklearn.ensemble import VotingClassifier\n",
        "\n",
        "# Creating VotingClassifier\n",
        "voting_clf = VotingClassifier(\n",
        "    estimators=[('rf', rf_model1), ('lr', lr_model1)],\n",
        "    voting='hard'  # majority voting\n",
        ")\n",
        "\n",
        "# Training\n",
        "voting_clf.fit(X_train, y_train)\n",
        "\n",
        "# Predicting on test set\n",
        "final_pred = voting_clf.predict(X_test)\n",
        "\n",
        "\n",
        "print(\"Hybrid Model Accuracy:\", accuracy_score(y_test, final_pred))\n",
        "print(\"Error Rate:\", 1 - accuracy_score(y_test, final_pred))\n",
        "print(\"\\nHybrid Model Classification Report:\\n\", classification_report(y_test, final_pred))\n",
        "print(\"\\nHybrid Model Confusion Matrix:\\n\", confusion_matrix(y_test, final_pred))\n"
      ]
    },
    {
      "cell_type": "code",
      "execution_count": null,
      "metadata": {
        "id": "QxXrnxqgxFjs",
        "outputId": "82cce754-8fc1-495c-e0f3-58802d3f423f"
      },
      "outputs": [
        {
          "name": "stderr",
          "output_type": "stream",
          "text": [
            "2025/05/26 02:15:49 INFO mlflow.tracking.fluent: Experiment with name 'Hybrid Voting Classifier 1st' does not exist. Creating a new experiment.\n",
            "2025/05/26 02:15:58 WARNING mlflow.models.model: Model logged without a signature and input example. Please set `input_example` parameter when logging the model to auto infer the model signature.\n"
          ]
        },
        {
          "name": "stdout",
          "output_type": "stream",
          "text": [
            "\n",
            "Voting Classifier model has been logged to MLflow.\n",
            "🏃 View run Voting Classifier RF + LR 1st at: http://127.0.0.1:5000/#/experiments/722502161955321991/runs/e4cc01aa9ed64f8cb36c07a1b4d1a021\n",
            "🧪 View experiment at: http://127.0.0.1:5000/#/experiments/722502161955321991\n"
          ]
        }
      ],
      "source": [
        "mlflow.set_tracking_uri(\"http://127.0.0.1:5000\")\n",
        "mlflow.set_experiment(\"Hybrid Voting Classifier 1st\")\n",
        "\n",
        "with mlflow.start_run(run_name=\"Voting Classifier RF + LR 1st\"):\n",
        "\n",
        "    voting_clf.fit(X_train, y_train)\n",
        "\n",
        "    final_pred = voting_clf.predict(X_test)\n",
        "\n",
        "    # Evaluate\n",
        "    accuracy = accuracy_score(y_test, final_pred)\n",
        "    error_rate = 1 - accuracy\n",
        "\n",
        "    # Log parameters\n",
        "    mlflow.log_param(\"model\", \"VotingClassifier\")\n",
        "    mlflow.log_param(\"voting_type\", \"hard\")\n",
        "    mlflow.log_param(\"estimators\", \"RandomForest + LogisticRegression\")\n",
        "    mlflow.log_param(\"test_size\", 0.2)\n",
        "\n",
        "    # Log metrics\n",
        "    mlflow.log_metric(\"accuracy\", accuracy)\n",
        "    mlflow.log_metric(\"error_rate\", error_rate)\n",
        "\n",
        "    # Log the model itself\n",
        "    mlflow.sklearn.log_model(voting_clf, \"Voting_Classifier_Model\")\n",
        "\n",
        "    print(\"\\nVoting Classifier model has been logged to MLflow.\")"
      ]
    },
    {
      "cell_type": "markdown",
      "metadata": {
        "id": "Wv0zubHLNlxl"
      },
      "source": [
        "Hybrid RF and SVM"
      ]
    },
    {
      "cell_type": "code",
      "execution_count": null,
      "metadata": {
        "colab": {
          "base_uri": "https://localhost:8080/"
        },
        "id": "0Dv3EWiCNoFB",
        "outputId": "e99895f5-5871-4501-ea2d-71620a2b435c"
      },
      "outputs": [
        {
          "name": "stdout",
          "output_type": "stream",
          "text": [
            "Hybrid (Linear SVM + RF) Accuracy: 0.8688524590163934\n",
            "\n",
            "Hybrid Classification Report:\n",
            "               precision    recall  f1-score   support\n",
            "\n",
            "           0       0.93      0.82      0.87        33\n",
            "           1       0.81      0.93      0.87        28\n",
            "\n",
            "    accuracy                           0.87        61\n",
            "   macro avg       0.87      0.87      0.87        61\n",
            "weighted avg       0.88      0.87      0.87        61\n",
            "\n",
            "\n",
            "Hybrid Confusion Matrix:\n",
            " [[27  6]\n",
            " [ 2 26]]\n"
          ]
        }
      ],
      "source": [
        "from sklearn.svm import SVC\n",
        "from sklearn.ensemble import RandomForestClassifier\n",
        "from sklearn.ensemble import VotingClassifier\n",
        "from sklearn.metrics import accuracy_score, classification_report, confusion_matrix\n",
        "\n",
        "svm_linear = SVC(kernel='linear', probability=True, random_state=42)\n",
        "rf = RandomForestClassifier(random_state=42)\n",
        "\n",
        "# Create a Voting Classifier\n",
        "hybrid_model = VotingClassifier(\n",
        "    estimators=[('svm', svm_linear), ('rf', rf)],\n",
        "    voting='soft'  #for probabilities\n",
        ")\n",
        "\n",
        "# Training\n",
        "hybrid_model.fit(X_train, y_train)\n",
        "\n",
        "# Predicting\n",
        "y_pred_hybrid = hybrid_model.predict(X_test)\n",
        "\n",
        "# Evaluate\n",
        "print(\"Hybrid (Linear SVM + RF) Accuracy:\", accuracy_score(y_test, y_pred_hybrid))\n",
        "print(\"\\nHybrid Classification Report:\\n\", classification_report(y_test, y_pred_hybrid))\n",
        "print(\"\\nHybrid Confusion Matrix:\\n\", confusion_matrix(y_test, y_pred_hybrid))\n"
      ]
    },
    {
      "cell_type": "code",
      "execution_count": null,
      "metadata": {
        "id": "WbE3Tka6xFjt",
        "outputId": "14ff5e2a-42dd-4faf-88c0-9f9f3d337ceb"
      },
      "outputs": [
        {
          "name": "stderr",
          "output_type": "stream",
          "text": [
            "2025/05/26 02:18:09 INFO mlflow.tracking.fluent: Experiment with name 'Hybrid Soft Voting Classifier_1st' does not exist. Creating a new experiment.\n",
            "2025/05/26 02:18:19 WARNING mlflow.models.model: Model logged without a signature and input example. Please set `input_example` parameter when logging the model to auto infer the model signature.\n"
          ]
        },
        {
          "name": "stdout",
          "output_type": "stream",
          "text": [
            "\n",
            "Hybrid Soft Voting model has been logged to MLflow.\n",
            "🏃 View run Hybrid_SVM_RF_SoftVoting_!st at: http://127.0.0.1:5000/#/experiments/347322878557177538/runs/1543a57d7a9947168e1dd84a2013ac65\n",
            "🧪 View experiment at: http://127.0.0.1:5000/#/experiments/347322878557177538\n"
          ]
        }
      ],
      "source": [
        "mlflow.set_tracking_uri(\"http://127.0.0.1:5000\")\n",
        "mlflow.set_experiment(\"Hybrid Soft Voting Classifier_1st\")\n",
        "\n",
        "with mlflow.start_run(run_name=\"Hybrid_SVM_RF_SoftVoting_!st\"):\n",
        "\n",
        "    hybrid_model.fit(X_train, y_train)\n",
        "\n",
        "    y_pred_hybrid = hybrid_model.predict(X_test)\n",
        "\n",
        "    accuracy = accuracy_score(y_test, y_pred_hybrid)\n",
        "    error_rate = 1 - accuracy\n",
        "\n",
        "    # Log model parameters\n",
        "    mlflow.log_param(\"model\", \"VotingClassifier\")\n",
        "    mlflow.log_param(\"voting_type\", \"soft\")\n",
        "    mlflow.log_param(\"estimators\", \"SVM (linear) + RandomForest\")\n",
        "    mlflow.log_param(\"test_size\", 0.2)\n",
        "\n",
        "    # Log metrics\n",
        "    mlflow.log_metric(\"accuracy\", accuracy)\n",
        "    mlflow.log_metric(\"error_rate\", error_rate)\n",
        "\n",
        "    # Log the model\n",
        "    mlflow.sklearn.log_model(hybrid_model, \"Hybrid_SVM_RF_SoftVoting_Model_1st\")\n",
        "\n",
        "    print(\"\\nHybrid Soft Voting model has been logged to MLflow.\")"
      ]
    },
    {
      "cell_type": "code",
      "execution_count": null,
      "metadata": {
        "id": "aibysiLpxFjt",
        "outputId": "ef0a3b09-5ffc-4865-811b-d8c609eacaa0"
      },
      "outputs": [
        {
          "data": {
            "image/png": "[encoded data removed]",
            "text/plain": [
              "<IPython.core.display.Image object>"
            ]
          },
          "execution_count": 111,
          "metadata": {},
          "output_type": "execute_result"
        }
      ],
      "source": [
        "from IPython.display import Image\n",
        "\n",
        "bef_feature = \"E:/python projects/assigment1 PAI ss/Heart/models_bef_feature_sel.png\"\n",
        "Image(filename=bef_feature)"
      ]
    },
    {
      "cell_type": "markdown",
      "metadata": {
        "id": "wmzzS3PwP3t_"
      },
      "source": [
        "**AFTER FEATURE SELECTION**"
      ]
    },
    {
      "cell_type": "code",
      "execution_count": null,
      "metadata": {
        "id": "pQa1keN5S_sJ"
      },
      "outputs": [],
      "source": []
    },
    {
      "cell_type": "markdown",
      "metadata": {
        "id": "sWll_yqVUmrL"
      },
      "source": [
        "Feature selection with dt entropy"
      ]
    },
    {
      "cell_type": "code",
      "execution_count": null,
      "metadata": {
        "colab": {
          "base_uri": "https://localhost:8080/"
        },
        "id": "LVoOB1UfUpl9",
        "outputId": "d0a9c5d7-685b-4605-d215-7ef27cd6b23f"
      },
      "outputs": [
        {
          "name": "stdout",
          "output_type": "stream",
          "text": [
            "      Feature  Importance\n",
            "25     thal_1    0.205675\n",
            "0         age    0.170230\n",
            "3     thalach    0.150433\n",
            "10       cp_3    0.110889\n",
            "21       ca_0    0.096985\n",
            "4     oldpeak    0.075074\n",
            "2        chol    0.061155\n",
            "5       sex_0    0.020553\n",
            "13  restecg_0    0.020231\n",
            "9        cp_2    0.019138\n",
            "26     thal_2    0.018218\n",
            "22       ca_1    0.016187\n",
            "11      fbs_0    0.013674\n",
            "1    trestbps    0.012606\n",
            "6       sex_1    0.008952\n",
            "7        cp_0    0.000000\n",
            "8        cp_1    0.000000\n",
            "12      fbs_1    0.000000\n",
            "14  restecg_1    0.000000\n",
            "15  restecg_2    0.000000\n",
            "19    slope_1    0.000000\n",
            "18    slope_0    0.000000\n",
            "17    exang_1    0.000000\n",
            "16    exang_0    0.000000\n",
            "23       ca_2    0.000000\n",
            "20    slope_2    0.000000\n",
            "24       ca_3    0.000000\n",
            "27     thal_3    0.000000\n",
            "\n",
            "Top 10 features based on Decision Tree entropy:\n",
            "['thal_1', 'age', 'thalach', 'cp_3', 'ca_0', 'oldpeak', 'chol', 'sex_0', 'restecg_0', 'cp_2']\n"
          ]
        }
      ],
      "source": [
        "from sklearn.tree import DecisionTreeClassifier\n",
        "\n",
        "# Separating features and target from preprocessed DataFrame\n",
        "X = heart_preprocessed.drop('target', axis=1)\n",
        "y = heart_preprocessed['target']\n",
        "\n",
        "# Initialize and fit Decision Tree classifier with entropy criterion\n",
        "dt = DecisionTreeClassifier(criterion='entropy', random_state=42)\n",
        "dt.fit(X, y)\n",
        "\n",
        "# Getting feature importances\n",
        "feature_importances = dt.feature_importances_\n",
        "\n",
        "# Creating a DataFrame for feature importance\n",
        "feat_imp_df = pd.DataFrame({\n",
        "    'Feature': X.columns,\n",
        "    'Importance': feature_importances\n",
        "}).sort_values(by='Importance', ascending=False)\n",
        "\n",
        "print(feat_imp_df)\n",
        "\n",
        "# Selecting top 10 Features\n",
        "top_features = feat_imp_df['Feature'].head(10).tolist()\n",
        "print(\"\\nTop 10 features based on Decision Tree entropy:\")\n",
        "print(top_features)\n",
        "\n",
        "# features selected for training\n",
        "X_selected = X[top_features]\n"
      ]
    },
    {
      "cell_type": "markdown",
      "metadata": {
        "id": "xYxvhQgiZQsh"
      },
      "source": [
        "Train Test Split"
      ]
    },
    {
      "cell_type": "code",
      "execution_count": null,
      "metadata": {
        "id": "wgkzxI7DZP5u"
      },
      "outputs": [],
      "source": [
        "from sklearn.model_selection import train_test_split\n",
        "X_final = X[top_features]\n",
        "y_final = y\n",
        "\n",
        "X_train, X_test, y_train, y_test = train_test_split(X_final, y_final, test_size=0.2, random_state=42)\n"
      ]
    },
    {
      "cell_type": "markdown",
      "metadata": {
        "id": "eKfsJ6rXZXlD"
      },
      "source": [
        "Naive Bayes"
      ]
    },
    {
      "cell_type": "code",
      "execution_count": null,
      "metadata": {
        "colab": {
          "base_uri": "https://localhost:8080/"
        },
        "id": "X9nA2s91ZYzW",
        "outputId": "611bf628-a0f1-4376-d30e-3e543726c028"
      },
      "outputs": [
        {
          "name": "stdout",
          "output_type": "stream",
          "text": [
            "Naive Bayes Accuracy: 0.8852\n",
            "\n",
            "Error Rate: 0.1148\n",
            "\n",
            "Confusion Matrix:\n",
            " [[26  3]\n",
            " [ 4 28]]\n",
            "\n",
            "Classification Report:\n",
            "               precision    recall  f1-score   support\n",
            "\n",
            "           0       0.87      0.90      0.88        29\n",
            "           1       0.90      0.88      0.89        32\n",
            "\n",
            "    accuracy                           0.89        61\n",
            "   macro avg       0.88      0.89      0.89        61\n",
            "weighted avg       0.89      0.89      0.89        61\n",
            "\n"
          ]
        }
      ],
      "source": [
        "from sklearn.naive_bayes import GaussianNB\n",
        "from sklearn.metrics import accuracy_score\n",
        "\n",
        "nb_model = GaussianNB()\n",
        "nb_model.fit(X_train, y_train)\n",
        "y_pred_nb = nb_model.predict(X_test)\n",
        "acc_nb = accuracy_score(y_test, y_pred_nb)\n",
        "f1_nb = f1_score(y_test, y_pred_nb)\n",
        "error_rate = 1 - acc_nb\n",
        "print(f\"Naive Bayes Accuracy: {acc_nb:.4f}\")\n",
        "print(f\"\\nError Rate: {error_rate:.4f}\")\n",
        "\n",
        "print(\"\\nConfusion Matrix:\\n\", confusion_matrix(y_test, y_pred_nb))\n",
        "print(\"\\nClassification Report:\\n\", classification_report(y_test, y_pred_nb))\n"
      ]
    },
    {
      "cell_type": "code",
      "execution_count": null,
      "metadata": {
        "id": "ykVooahQxFjw",
        "outputId": "3970419a-e901-4233-a32d-251bfb73293d"
      },
      "outputs": [
        {
          "name": "stderr",
          "output_type": "stream",
          "text": [
            "2025/05/26 02:23:07 INFO mlflow.tracking.fluent: Experiment with name 'Naive Bayes Experiment_Heart' does not exist. Creating a new experiment.\n",
            "2025/05/26 02:23:16 WARNING mlflow.models.model: Model logged without a signature and input example. Please set `input_example` parameter when logging the model to auto infer the model signature.\n"
          ]
        },
        {
          "name": "stdout",
          "output_type": "stream",
          "text": [
            "\n",
            "Naive Bayes model logged to MLflow.\n",
            "🏃 View run Naive Bayes Classifier_Heart at: http://127.0.0.1:5000/#/experiments/958028450246571312/runs/3e8a00124ef3440fa01fcea29b7bc7e1\n",
            "🧪 View experiment at: http://127.0.0.1:5000/#/experiments/958028450246571312\n"
          ]
        }
      ],
      "source": [
        "mlflow.set_tracking_uri(\"http://127.0.0.1:5000\")\n",
        "mlflow.set_experiment(\"Naive Bayes Experiment_Heart\")\n",
        "\n",
        "with mlflow.start_run(run_name=\"Naive Bayes Classifier_Heart\"):\n",
        "\n",
        "    # Log parameters\n",
        "    mlflow.log_param(\"model\", \"GaussianNB\")\n",
        "\n",
        "    # Log metrics (assuming these are already computed)\n",
        "    mlflow.log_metric(\"accuracy\", acc_nb)\n",
        "    mlflow.log_metric(\"f1_score\", f1_nb)\n",
        "    mlflow.log_metric(\"error_rate\", error_rate)\n",
        "\n",
        "    # Log the model (already trained model object)\n",
        "    mlflow.sklearn.log_model(nb_model, \"Naive_Bayes_Model_Heart\")\n",
        "\n",
        "    print(\"\\nNaive Bayes model logged to MLflow.\")"
      ]
    },
    {
      "cell_type": "markdown",
      "metadata": {
        "id": "dzVF2PCNZvLL"
      },
      "source": [
        "SVM"
      ]
    },
    {
      "cell_type": "code",
      "execution_count": null,
      "metadata": {
        "colab": {
          "base_uri": "https://localhost:8080/"
        },
        "id": "R4rHSlWUZwGw",
        "outputId": "5cd22061-750f-40a2-c19d-221dc19e198e"
      },
      "outputs": [
        {
          "name": "stdout",
          "output_type": "stream",
          "text": [
            "SVM (Linear) Accuracy: 0.9016\n",
            "Error Rate: 0.0984\n",
            "\n",
            "Confusion Matrix:\n",
            " [[26  3]\n",
            " [ 3 29]]\n",
            "\n",
            "Classification Report:\n",
            "               precision    recall  f1-score   support\n",
            "\n",
            "           0       0.90      0.90      0.90        29\n",
            "           1       0.91      0.91      0.91        32\n",
            "\n",
            "    accuracy                           0.90        61\n",
            "   macro avg       0.90      0.90      0.90        61\n",
            "weighted avg       0.90      0.90      0.90        61\n",
            "\n"
          ]
        }
      ],
      "source": [
        "from sklearn.svm import SVC\n",
        "\n",
        "svm_model = SVC(kernel='linear', probability=True, random_state=42)\n",
        "svm_model.fit(X_train, y_train)\n",
        "y_pred_svm = svm_model.predict(X_test)\n",
        "acc_svm = accuracy_score(y_test, y_pred_svm)\n",
        "f1_svm = f1_score(y_test, y_pred_svm)\n",
        "error_rate = 1 - acc_svm\n",
        "print(f\"SVM (Linear) Accuracy: {acc_svm:.4f}\")\n",
        "print(f\"Error Rate: {error_rate:.4f}\")\n",
        "print(\"\\nConfusion Matrix:\\n\", confusion_matrix(y_test, y_pred_svm))\n",
        "print(\"\\nClassification Report:\\n\", classification_report(y_test, y_pred_svm))\n"
      ]
    },
    {
      "cell_type": "code",
      "execution_count": null,
      "metadata": {
        "id": "57gUHjXKxFjx",
        "outputId": "e9a46bf4-ac3e-464d-8759-ef41141933df"
      },
      "outputs": [
        {
          "name": "stderr",
          "output_type": "stream",
          "text": [
            "2025/05/26 02:24:17 INFO mlflow.tracking.fluent: Experiment with name 'SVM Linear Experiment_Heart' does not exist. Creating a new experiment.\n",
            "2025/05/26 02:24:26 WARNING mlflow.models.model: Model logged without a signature and input example. Please set `input_example` parameter when logging the model to auto infer the model signature.\n"
          ]
        },
        {
          "name": "stdout",
          "output_type": "stream",
          "text": [
            "\n",
            "SVM Linear model logged to MLflow.\n",
            "🏃 View run SVM Linear Classifier_Heart at: http://127.0.0.1:5000/#/experiments/123524750798686228/runs/1fada1d0ee3c4b87a5cd60a622547c95\n",
            "🧪 View experiment at: http://127.0.0.1:5000/#/experiments/123524750798686228\n"
          ]
        }
      ],
      "source": [
        "mlflow.set_tracking_uri(\"http://127.0.0.1:5000\")\n",
        "mlflow.set_experiment(\"SVM Linear Experiment_Heart\")\n",
        "\n",
        "with mlflow.start_run(run_name=\"SVM Linear Classifier_Heart\"):\n",
        "\n",
        "    # Log parameters\n",
        "    mlflow.log_param(\"model\", \"SVC\")\n",
        "    mlflow.log_param(\"kernel\", \"linear\")\n",
        "\n",
        "    # Log metrics\n",
        "    mlflow.log_metric(\"accuracy\", acc_svm)\n",
        "    mlflow.log_metric(\"f1_score\", f1_svm)\n",
        "    mlflow.log_metric(\"error_rate\", error_rate)\n",
        "\n",
        "    # Log the model\n",
        "    mlflow.sklearn.log_model(svm_model, \"SVM_Linear_Model_Heart\")\n",
        "\n",
        "    print(\"\\nSVM Linear model logged to MLflow.\")"
      ]
    },
    {
      "cell_type": "markdown",
      "metadata": {
        "id": "R-_3AG64Z10E"
      },
      "source": [
        "Random Forest"
      ]
    },
    {
      "cell_type": "code",
      "execution_count": null,
      "metadata": {
        "colab": {
          "base_uri": "https://localhost:8080/"
        },
        "id": "WX5rtOziZ3Fo",
        "outputId": "cd6f27ec-9346-4566-806d-0c822243fdae"
      },
      "outputs": [
        {
          "name": "stdout",
          "output_type": "stream",
          "text": [
            "Random Forest Accuracy: 0.9180\n",
            "Random Forest F!: 0.9180\n",
            "Error Rate: 0.0820\n",
            "\n",
            "Confusion Matrix:\n",
            " [[28  1]\n",
            " [ 4 28]]\n",
            "Classification Report               precision    recall  f1-score   support\n",
            "\n",
            "           0       0.88      0.97      0.92        29\n",
            "           1       0.97      0.88      0.92        32\n",
            "\n",
            "    accuracy                           0.92        61\n",
            "   macro avg       0.92      0.92      0.92        61\n",
            "weighted avg       0.92      0.92      0.92        61\n",
            "\n"
          ]
        }
      ],
      "source": [
        "from sklearn.ensemble import RandomForestClassifier\n",
        "\n",
        "rf_model = RandomForestClassifier(random_state=42)\n",
        "rf_model.fit(X_train, y_train)\n",
        "y_pred_rf = rf_model.predict(X_test)\n",
        "acc_rf = accuracy_score(y_test, y_pred_rf)\n",
        "f1_rf = f1_score(y_test, y_pred_rf)\n",
        "error_rate = 1 - acc_rf\n",
        "print(f\"Random Forest Accuracy: {acc_rf:.4f}\")\n",
        "print(f\"Random Forest F!: {f1_rf:.4f}\")\n",
        "print(f\"Error Rate: {error_rate:.4f}\")\n",
        "print(\"\\nConfusion Matrix:\\n\", confusion_matrix(y_test, y_pred_rf))\n",
        "print(f\"Classification Report\", classification_report(y_test, y_pred_rf))"
      ]
    },
    {
      "cell_type": "code",
      "execution_count": null,
      "metadata": {
        "id": "AvsYEpQqxFjy",
        "outputId": "d6a8694f-45ab-4072-ef29-b9e8ec372d42"
      },
      "outputs": [
        {
          "name": "stderr",
          "output_type": "stream",
          "text": [
            "2025/05/26 02:25:43 INFO mlflow.tracking.fluent: Experiment with name 'Random Forest Experiment_Heart' does not exist. Creating a new experiment.\n",
            "2025/05/26 02:25:52 WARNING mlflow.models.model: Model logged without a signature and input example. Please set `input_example` parameter when logging the model to auto infer the model signature.\n"
          ]
        },
        {
          "name": "stdout",
          "output_type": "stream",
          "text": [
            "\n",
            "Random Forest model logged to MLflow.\n",
            "🏃 View run Random Forest Classifier_Heart at: http://127.0.0.1:5000/#/experiments/120836156212340478/runs/d8f8abc67d394a43bad645dd4f0e76cd\n",
            "🧪 View experiment at: http://127.0.0.1:5000/#/experiments/120836156212340478\n"
          ]
        }
      ],
      "source": [
        "mlflow.set_tracking_uri(\"http://127.0.0.1:5000\")\n",
        "mlflow.set_experiment(\"Random Forest Experiment_Heart\")\n",
        "\n",
        "with mlflow.start_run(run_name=\"Random Forest Classifier_Heart\"):\n",
        "\n",
        "    # Log parameters\n",
        "    mlflow.log_param(\"model\", \"RandomForestClassifier\")\n",
        "    mlflow.log_param(\"random_state\", 42)\n",
        "\n",
        "    # Log metrics\n",
        "    mlflow.log_metric(\"accuracy\", acc_rf)\n",
        "    mlflow.log_metric(\"f1_score\", f1_rf)\n",
        "    mlflow.log_metric(\"error_rate\", error_rate)\n",
        "\n",
        "    # Log the model\n",
        "    mlflow.sklearn.log_model(rf_model, \"Random_Forest_Model_Heart\")\n",
        "\n",
        "    print(\"\\nRandom Forest model logged to MLflow.\")"
      ]
    },
    {
      "cell_type": "markdown",
      "metadata": {
        "id": "IOUyVrNQZ_p-"
      },
      "source": [
        "Logistic Regression"
      ]
    },
    {
      "cell_type": "code",
      "execution_count": null,
      "metadata": {
        "colab": {
          "base_uri": "https://localhost:8080/"
        },
        "id": "RVe_xN-maC0M",
        "outputId": "8e0bcee0-30c4-40dd-bac3-718ad0d57c6a"
      },
      "outputs": [
        {
          "name": "stdout",
          "output_type": "stream",
          "text": [
            "Logistic Regression Accuracy: 0.8852\n",
            "Error Rate: 0.1148\n",
            "\n",
            "Confusion Matrix:\n",
            " [[26  3]\n",
            " [ 4 28]]\n",
            "Classification Report               precision    recall  f1-score   support\n",
            "\n",
            "           0       0.87      0.90      0.88        29\n",
            "           1       0.90      0.88      0.89        32\n",
            "\n",
            "    accuracy                           0.89        61\n",
            "   macro avg       0.88      0.89      0.89        61\n",
            "weighted avg       0.89      0.89      0.89        61\n",
            "\n"
          ]
        }
      ],
      "source": [
        "from sklearn.linear_model import LogisticRegression\n",
        "\n",
        "lr_model = LogisticRegression(max_iter=1000, random_state=42)\n",
        "lr_model.fit(X_train, y_train)\n",
        "y_pred_lr = lr_model.predict(X_test)\n",
        "acc_lr = accuracy_score(y_test, y_pred_lr)\n",
        "f1_lr = f1_score(y_test, y_pred_lr)\n",
        "error_rate = 1 - acc_lr\n",
        "print(f\"Logistic Regression Accuracy: {acc_lr:.4f}\")\n",
        "print(f\"Error Rate: {error_rate:.4f}\")\n",
        "print(\"\\nConfusion Matrix:\\n\", confusion_matrix(y_test, y_pred_lr))\n",
        "print(f\"Classification Report\", classification_report(y_test, y_pred_lr))"
      ]
    },
    {
      "cell_type": "code",
      "execution_count": null,
      "metadata": {
        "id": "thsscL95xFjz",
        "outputId": "78e156c4-bd29-46c0-9961-9052f8e12f42"
      },
      "outputs": [
        {
          "name": "stderr",
          "output_type": "stream",
          "text": [
            "2025/05/26 02:26:58 INFO mlflow.tracking.fluent: Experiment with name 'Logistic Regression Experiment_Heart' does not exist. Creating a new experiment.\n",
            "2025/05/26 02:27:08 WARNING mlflow.models.model: Model logged without a signature and input example. Please set `input_example` parameter when logging the model to auto infer the model signature.\n"
          ]
        },
        {
          "name": "stdout",
          "output_type": "stream",
          "text": [
            "\n",
            "Logistic Regression model logged to MLflow.\n",
            "🏃 View run Logistic Regression Classifier_Heart at: http://127.0.0.1:5000/#/experiments/294770337650369282/runs/cd9578c1ccff4820b362be137e7e7b37\n",
            "🧪 View experiment at: http://127.0.0.1:5000/#/experiments/294770337650369282\n"
          ]
        }
      ],
      "source": [
        "import mlflow\n",
        "import mlflow.sklearn\n",
        "\n",
        "mlflow.set_tracking_uri(\"http://127.0.0.1:5000\")\n",
        "mlflow.set_experiment(\"Logistic Regression Experiment_Heart\")\n",
        "\n",
        "with mlflow.start_run(run_name=\"Logistic Regression Classifier_Heart\"):\n",
        "\n",
        "    # Log parameters\n",
        "    mlflow.log_param(\"model\", \"LogisticRegression\")\n",
        "    mlflow.log_param(\"max_iter\", 1000)\n",
        "    mlflow.log_param(\"random_state\", 42)\n",
        "\n",
        "    # Log metrics\n",
        "    mlflow.log_metric(\"accuracy\", acc_lr)\n",
        "    mlflow.log_metric(\"f1_score\", f1_lr)\n",
        "    mlflow.log_metric(\"error_rate\", error_rate)\n",
        "\n",
        "    # Log the model\n",
        "    mlflow.sklearn.log_model(lr_model, \"Logistic_Regression_Model_Heart\")\n",
        "\n",
        "    print(\"\\nLogistic Regression model logged to MLflow.\")\n"
      ]
    },
    {
      "cell_type": "markdown",
      "metadata": {
        "id": "sAH4eRBavMAL"
      },
      "source": []
    },
    {
      "cell_type": "markdown",
      "metadata": {
        "id": "Yd8SoeMfaKxD"
      },
      "source": [
        "Decision Tree"
      ]
    },
    {
      "cell_type": "code",
      "execution_count": null,
      "metadata": {
        "colab": {
          "base_uri": "https://localhost:8080/"
        },
        "id": "TKGgvfivaMOT",
        "outputId": "25fdb801-8fff-4d2a-aba6-1584c0e92f1a"
      },
      "outputs": [
        {
          "name": "stdout",
          "output_type": "stream",
          "text": [
            "Decision Tree Accuracy: 0.8197\n",
            "Error Rate: 0.1803\n",
            "\n",
            "Confusion Matrix:\n",
            " [[25  4]\n",
            " [ 7 25]]\n",
            "Classification Report               precision    recall  f1-score   support\n",
            "\n",
            "           0       0.78      0.86      0.82        29\n",
            "           1       0.86      0.78      0.82        32\n",
            "\n",
            "    accuracy                           0.82        61\n",
            "   macro avg       0.82      0.82      0.82        61\n",
            "weighted avg       0.82      0.82      0.82        61\n",
            "\n"
          ]
        }
      ],
      "source": [
        "from sklearn.tree import DecisionTreeClassifier\n",
        "\n",
        "dt_model = DecisionTreeClassifier(criterion='entropy', random_state=42)\n",
        "dt_model.fit(X_train, y_train)\n",
        "y_pred_dt = dt_model.predict(X_test)\n",
        "acc_dt = accuracy_score(y_test, y_pred_dt)\n",
        "f1_dt = f1_score(y_test, y_pred_dt)\n",
        "error_rate = 1 - acc_dt\n",
        "print(f\"Decision Tree Accuracy: {acc_dt:.4f}\")\n",
        "print(f\"Error Rate: {error_rate:.4f}\")\n",
        "print(\"\\nConfusion Matrix:\\n\", confusion_matrix(y_test, y_pred_dt))\n",
        "print(f\"Classification Report\", classification_report(y_test, y_pred_dt))"
      ]
    },
    {
      "cell_type": "markdown",
      "metadata": {
        "id": "pgusA0ZNPGpu"
      },
      "source": [
        "used dt and rf but results are better with rf and lr"
      ]
    },
    {
      "cell_type": "code",
      "execution_count": null,
      "metadata": {
        "id": "xnrnZiOOxFj1",
        "outputId": "d00a04f0-c424-412a-f063-6bda4f4549f7"
      },
      "outputs": [
        {
          "name": "stderr",
          "output_type": "stream",
          "text": [
            "2025/05/26 02:31:30 WARNING mlflow.models.model: Model logged without a signature and input example. Please set `input_example` parameter when logging the model to auto infer the model signature.\n"
          ]
        },
        {
          "name": "stdout",
          "output_type": "stream",
          "text": [
            "\n",
            "Decision Tree model logged to MLflow.\n",
            "🏃 View run Decision Tree Classifier_Heart at: http://127.0.0.1:5000/#/experiments/250499424470930514/runs/55174d0ca898444e9c9be0af113dff2b\n",
            "🧪 View experiment at: http://127.0.0.1:5000/#/experiments/250499424470930514\n"
          ]
        }
      ],
      "source": [
        "mlflow.set_tracking_uri(\"http://127.0.0.1:5000\")\n",
        "mlflow.set_experiment(\"Decision Tree Experiment_Heart\")\n",
        "\n",
        "with mlflow.start_run(run_name=\"Decision Tree Classifier_Heart\"):\n",
        "\n",
        "    # Log parameters\n",
        "    mlflow.log_param(\"model\", \"DecisionTreeClassifier\")\n",
        "    mlflow.log_param(\"criterion\", \"entropy\")\n",
        "    mlflow.log_param(\"random_state\", 42)\n",
        "\n",
        "    # Log metrics\n",
        "    mlflow.log_metric(\"accuracy\", acc_dt)\n",
        "    mlflow.log_metric(\"f1_score\", f1_dt)\n",
        "    mlflow.log_metric(\"error_rate\", error_rate)\n",
        "\n",
        "    # Log the model\n",
        "    mlflow.sklearn.log_model(dt_model, \"Decision_Tree_Model_Heart\")\n",
        "\n",
        "    print(\"\\nDecision Tree model logged to MLflow.\")"
      ]
    },
    {
      "cell_type": "markdown",
      "metadata": {
        "id": "TXFoKSRJGLfp"
      },
      "source": [
        "# **Hybrid of DT and RF**"
      ]
    },
    {
      "cell_type": "code",
      "execution_count": null,
      "metadata": {
        "colab": {
          "base_uri": "https://localhost:8080/"
        },
        "id": "gI_NXaL64S1p",
        "outputId": "5639bf29-259e-4a4b-91e7-dfb8da766681"
      },
      "outputs": [
        {
          "name": "stdout",
          "output_type": "stream",
          "text": [
            "Error Rate: 0.1475\n",
            "Hybrid DT + RF Model Accuracy: 0.8524590163934426\n",
            "\n",
            "Classification Report:\n",
            "               precision    recall  f1-score   support\n",
            "\n",
            "           0       0.78      0.97      0.86        29\n",
            "           1       0.96      0.75      0.84        32\n",
            "\n",
            "    accuracy                           0.85        61\n",
            "   macro avg       0.87      0.86      0.85        61\n",
            "weighted avg       0.87      0.85      0.85        61\n",
            "\n",
            "\n",
            "Confusion Matrix:\n",
            " [[28  1]\n",
            " [ 8 24]]\n"
          ]
        }
      ],
      "source": [
        "dt_model = DecisionTreeClassifier(criterion='entropy', random_state=42)\n",
        "rf_model = RandomForestClassifier(random_state=42)\n",
        "\n",
        "# Create VotingClassifier with hard voting (majority vote)\n",
        "hybrid_voting = VotingClassifier(\n",
        "    estimators=[('dt', dt_model), ('rf', rf_model)],\n",
        "    voting='hard'\n",
        ")\n",
        "\n",
        "# Train on training data\n",
        "hybrid_voting.fit(X_train, y_train)\n",
        "\n",
        "# Predict on test data\n",
        "final_pred = hybrid_voting.predict(X_test)\n",
        "\n",
        "# Evaluate\n",
        "from sklearn.metrics import accuracy_score, classification_report, confusion_matrix, f1_score\n",
        "\n",
        "f1_dt_rf_hyb = f1_score(y_test, final_pred)\n",
        "error_rate = 1 - accuracy_score(y_test, final_pred)\n",
        "\n",
        "print(f\"Error Rate: {error_rate:.4f}\")\n",
        "print(\"Hybrid DT + RF Model Accuracy:\", accuracy_score(y_test, final_pred))\n",
        "print(\"\\nClassification Report:\\n\", classification_report(y_test, final_pred))\n",
        "print(\"\\nConfusion Matrix:\\n\", confusion_matrix(y_test, final_pred))"
      ]
    },
    {
      "cell_type": "code",
      "execution_count": null,
      "metadata": {
        "id": "fnsJOOC2xFj2",
        "outputId": "4a2b9d19-b8a0-417c-8a85-8ef028ff905c"
      },
      "outputs": [
        {
          "name": "stderr",
          "output_type": "stream",
          "text": [
            "2025/05/26 02:36:13 INFO mlflow.tracking.fluent: Experiment with name 'Hybrid_DT_RF_Voting_Classifier' does not exist. Creating a new experiment.\n",
            "2025/05/26 02:36:23 WARNING mlflow.models.model: Model logged without a signature and input example. Please set `input_example` parameter when logging the model to auto infer the model signature.\n"
          ]
        },
        {
          "name": "stdout",
          "output_type": "stream",
          "text": [
            "MLflow run completed. Accuracy: 0.8525, F1 Score: 0.8421\n",
            "🏃 View run Hybrid DT + RF Voting Classifier at: http://127.0.0.1:5000/#/experiments/602770852605154137/runs/0149182d0f1f41228802085599502cf2\n",
            "🧪 View experiment at: http://127.0.0.1:5000/#/experiments/602770852605154137\n"
          ]
        }
      ],
      "source": [
        "mlflow.set_tracking_uri(\"http://127.0.0.1:5000\")\n",
        "mlflow.set_experiment(\"Hybrid_DT_RF_Voting_Classifier\")\n",
        "\n",
        "with mlflow.start_run(run_name=\"Hybrid DT + RF Voting Classifier\"):\n",
        "\n",
        "    # Log model parameters (for example, criterion for dt and rf default params)\n",
        "    mlflow.log_param(\"dt_criterion\", \"entropy\")\n",
        "    mlflow.log_param(\"rf_random_state\", 42)\n",
        "    mlflow.log_param(\"voting\", \"hard\")\n",
        "\n",
        "    # Log metrics\n",
        "    f1_dt_rf_hyb = f1_score(y_test, final_pred)\n",
        "    acc = accuracy_score(y_test, final_pred)\n",
        "    error_rate = 1 - acc\n",
        "\n",
        "    mlflow.log_metric(\"accuracy\", acc)\n",
        "    mlflow.log_metric(\"f1_score\", f1_dt_rf_hyb)\n",
        "    mlflow.log_metric(\"error_rate\", error_rate)\n",
        "\n",
        "    # Log the VotingClassifier model\n",
        "    mlflow.sklearn.log_model(hybrid_voting, \"Hybrid_DT_RF_Voting_Model\")\n",
        "\n",
        "    print(f\"MLflow run completed. Accuracy: {acc:.4f}, F1 Score: {f1_dt_rf_hyb:.4f}\")"
      ]
    },
    {
      "cell_type": "markdown",
      "metadata": {
        "id": "1OATXGD_aZRf"
      },
      "source": [
        "KNN"
      ]
    },
    {
      "cell_type": "code",
      "execution_count": null,
      "metadata": {
        "colab": {
          "base_uri": "https://localhost:8080/"
        },
        "id": "lbCraOuPaaHX",
        "outputId": "ce150ac7-7253-4a59-b6e7-6d5116bbc75e"
      },
      "outputs": [
        {
          "name": "stdout",
          "output_type": "stream",
          "text": [
            "K-Nearest Neighbors Accuracy: 0.8852\n",
            "Error Rate: 0.1148\n",
            "\n",
            "Confusion Matrix:\n",
            " [[27  2]\n",
            " [ 5 27]]\n",
            "\n",
            "Classification Report\n",
            "               precision    recall  f1-score   support\n",
            "\n",
            "           0       0.84      0.93      0.89        29\n",
            "           1       0.93      0.84      0.89        32\n",
            "\n",
            "    accuracy                           0.89        61\n",
            "   macro avg       0.89      0.89      0.89        61\n",
            "weighted avg       0.89      0.89      0.89        61\n",
            "\n"
          ]
        }
      ],
      "source": [
        "from sklearn.neighbors import KNeighborsClassifier\n",
        "\n",
        "knn_model = KNeighborsClassifier(n_neighbors=5)\n",
        "knn_model.fit(X_train, y_train)\n",
        "y_pred_knn = knn_model.predict(X_test)\n",
        "acc_knn = accuracy_score(y_test, y_pred_knn)\n",
        "f1_knn = f1_score(y_test, y_pred_knn)\n",
        "error_rate = 1 - acc_knn\n",
        "print(f\"K-Nearest Neighbors Accuracy: {acc_knn:.4f}\")\n",
        "print(f\"Error Rate: {error_rate:.4f}\")\n",
        "\n",
        "print(\"\\nConfusion Matrix:\\n\", confusion_matrix(y_test, y_pred_knn))\n",
        "\n",
        "print(\"\\nClassification Report\\n\", classification_report(y_test, y_pred_knn))"
      ]
    },
    {
      "cell_type": "code",
      "execution_count": null,
      "metadata": {
        "id": "eYERNo3q6TtV",
        "outputId": "ec70d9a0-3073-4545-f7a0-0ba800c554f0"
      },
      "outputs": [
        {
          "name": "stderr",
          "output_type": "stream",
          "text": [
            "2025/05/26 02:38:21 INFO mlflow.tracking.fluent: Experiment with name 'KNN_Classifier_Experiment_Heart' does not exist. Creating a new experiment.\n",
            "2025/05/26 02:38:30 WARNING mlflow.models.model: Model logged without a signature and input example. Please set `input_example` parameter when logging the model to auto infer the model signature.\n"
          ]
        },
        {
          "name": "stdout",
          "output_type": "stream",
          "text": [
            "KNN model logged to MLflow with Accuracy: 0.8852, F1 Score: 0.8852\n",
            "🏃 View run KNN Classifier_Heart at: http://127.0.0.1:5000/#/experiments/923646014596075451/runs/6a24bf6c608b4674b00b133c04c86340\n",
            "🧪 View experiment at: http://127.0.0.1:5000/#/experiments/923646014596075451\n"
          ]
        }
      ],
      "source": [
        "mlflow.set_tracking_uri(\"http://127.0.0.1:5000\")  # adjust if needed\n",
        "mlflow.set_experiment(\"KNN_Classifier_Experiment_Heart\")\n",
        "\n",
        "with mlflow.start_run(run_name=\"KNN Classifier_Heart\"):\n",
        "\n",
        "    # Log parameters\n",
        "    mlflow.log_param(\"model\", \"KNeighborsClassifier\")\n",
        "    mlflow.log_param(\"n_neighbors\", 5)\n",
        "\n",
        "    # Log metrics\n",
        "    mlflow.log_metric(\"accuracy\", acc_knn)\n",
        "    mlflow.log_metric(\"f1_score\", f1_knn)\n",
        "    mlflow.log_metric(\"error_rate\", error_rate)\n",
        "\n",
        "    # Log the model itself\n",
        "    mlflow.sklearn.log_model(knn_model, \"KNN_Model_Heart\")\n",
        "\n",
        "    print(f\"KNN model logged to MLflow with Accuracy: {acc_knn:.4f}, F1 Score: {f1_knn:.4f}\")"
      ]
    },
    {
      "cell_type": "markdown",
      "metadata": {
        "id": "PZQ7H0MUbCUN"
      },
      "source": [
        "NN"
      ]
    },
    {
      "cell_type": "code",
      "execution_count": null,
      "metadata": {
        "colab": {
          "base_uri": "https://localhost:8080/"
        },
        "id": "XpVLz9U1bDWC",
        "outputId": "2607fc00-2dee-478f-884d-bb2b99f6e462"
      },
      "outputs": [
        {
          "name": "stdout",
          "output_type": "stream",
          "text": [
            "Neural Network Accuracy: 0.9016\n",
            "Error Rate: 0.0984\n",
            "\n",
            "Confusion Matrix:\n",
            " [[27  2]\n",
            " [ 4 28]]\n",
            "Classification Report               precision    recall  f1-score   support\n",
            "\n",
            "           0       0.87      0.93      0.90        29\n",
            "           1       0.93      0.88      0.90        32\n",
            "\n",
            "    accuracy                           0.90        61\n",
            "   macro avg       0.90      0.90      0.90        61\n",
            "weighted avg       0.90      0.90      0.90        61\n",
            "\n"
          ]
        }
      ],
      "source": [
        "from sklearn.neural_network import MLPClassifier\n",
        "\n",
        "# Train Neural Network\n",
        "nn_model = MLPClassifier(hidden_layer_sizes=(100,), max_iter=1000, random_state=42)\n",
        "nn_model.fit(X_train, y_train)\n",
        "\n",
        "# Predict and evaluate\n",
        "y_pred_nn = nn_model.predict(X_test)\n",
        "acc_nn = accuracy_score(y_test, y_pred_nn)\n",
        "f1_nn = f1_score(y_test, y_pred_nn)\n",
        "error_rate = 1 - acc_nn\n",
        "print(f\"Neural Network Accuracy: {acc_nn:.4f}\")\n",
        "print(f\"Error Rate: {error_rate:.4f}\")\n",
        "\n",
        "print(\"\\nConfusion Matrix:\\n\", confusion_matrix(y_test, y_pred_nn))\n",
        "\n",
        "print(f\"Classification Report\", classification_report(y_test, y_pred_nn))"
      ]
    },
    {
      "cell_type": "code",
      "execution_count": null,
      "metadata": {
        "id": "ZuEDh1xexFj4",
        "outputId": "01a1a45b-3827-43dd-cb2e-ef3c1c1605d0"
      },
      "outputs": [
        {
          "name": "stderr",
          "output_type": "stream",
          "text": [
            "2025/05/26 02:40:57 INFO mlflow.tracking.fluent: Experiment with name 'Neural Network Experiment_Heart' does not exist. Creating a new experiment.\n",
            "2025/05/26 02:41:06 WARNING mlflow.models.model: Model logged without a signature and input example. Please set `input_example` parameter when logging the model to auto infer the model signature.\n"
          ]
        },
        {
          "name": "stdout",
          "output_type": "stream",
          "text": [
            "Neural Network model logged to MLflow with Accuracy: 0.9016, F1 Score: 0.9032\n",
            "🏃 View run MLP Classifier_Heart at: http://127.0.0.1:5000/#/experiments/973209957503723410/runs/490778c6eaf14657b822ef9828f389ef\n",
            "🧪 View experiment at: http://127.0.0.1:5000/#/experiments/973209957503723410\n"
          ]
        }
      ],
      "source": [
        "mlflow.set_tracking_uri(\"http://127.0.0.1:5000\")\n",
        "mlflow.set_experiment(\"Neural Network Experiment_Heart\")\n",
        "\n",
        "with mlflow.start_run(run_name=\"MLP Classifier_Heart\"):\n",
        "\n",
        "    # Log parameters\n",
        "    mlflow.log_param(\"model\", \"MLPClassifier\")\n",
        "    mlflow.log_param(\"hidden_layer_sizes\", (100,))\n",
        "    mlflow.log_param(\"max_iter\", 1000)\n",
        "\n",
        "    # Log metrics\n",
        "    mlflow.log_metric(\"accuracy\", acc_nn)\n",
        "    mlflow.log_metric(\"f1_score\", f1_nn)\n",
        "    mlflow.log_metric(\"error_rate\", error_rate)\n",
        "\n",
        "    # Log the model\n",
        "    mlflow.sklearn.log_model(nn_model, \"MLP_Model_Heart\")\n",
        "\n",
        "    print(f\"Neural Network model logged to MLflow with Accuracy: {acc_nn:.4f}, F1 Score: {f1_nn:.4f}\")"
      ]
    },
    {
      "cell_type": "markdown",
      "metadata": {
        "id": "tjzZQk6rbJ4X"
      },
      "source": [
        "Gradient Boosted Tress"
      ]
    },
    {
      "cell_type": "code",
      "execution_count": null,
      "metadata": {
        "colab": {
          "base_uri": "https://localhost:8080/"
        },
        "id": "0K9rxjrNbPVZ",
        "outputId": "776085e4-ded3-4154-ebc0-d923634bd71c"
      },
      "outputs": [
        {
          "name": "stdout",
          "output_type": "stream",
          "text": [
            "Gradient Boosted Trees Accuracy: 0.8525\n",
            "Error Rate: 0.1475\n",
            "\n",
            "Confusion Matrix:\n",
            " [[27  2]\n",
            " [ 7 25]]\n",
            "Classification Report\n",
            "               precision    recall  f1-score   support\n",
            "\n",
            "           0       0.79      0.93      0.86        29\n",
            "           1       0.93      0.78      0.85        32\n",
            "\n",
            "    accuracy                           0.85        61\n",
            "   macro avg       0.86      0.86      0.85        61\n",
            "weighted avg       0.86      0.85      0.85        61\n",
            "\n"
          ]
        }
      ],
      "source": [
        "from sklearn.ensemble import GradientBoostingClassifier\n",
        "\n",
        "# Train Gradient Boosting\n",
        "gbt_model = GradientBoostingClassifier(random_state=42)\n",
        "gbt_model.fit(X_train, y_train)\n",
        "\n",
        "# Predict and evaluate\n",
        "y_pred_gbt = gbt_model.predict(X_test)\n",
        "acc_gbt = accuracy_score(y_test, y_pred_gbt)\n",
        "f1_gbt = f1_score(y_test, y_pred_gbt)\n",
        "error_rate = 1 - acc_gbt\n",
        "print(f\"Gradient Boosted Trees Accuracy: {acc_gbt:.4f}\")\n",
        "print(f\"Error Rate: {error_rate:.4f}\")\n",
        "\n",
        "print(\"\\nConfusion Matrix:\\n\", confusion_matrix(y_test, y_pred_gbt))\n",
        "print(f\"Classification Report\\n\", classification_report(y_test, y_pred_gbt))"
      ]
    },
    {
      "cell_type": "code",
      "execution_count": null,
      "metadata": {
        "id": "CibISmeqxFj5",
        "outputId": "57c03531-0b1a-49f3-ed72-2134b8035da5"
      },
      "outputs": [
        {
          "name": "stderr",
          "output_type": "stream",
          "text": [
            "2025/05/26 02:42:57 INFO mlflow.tracking.fluent: Experiment with name 'Gradient Boosting Experiment_Heart' does not exist. Creating a new experiment.\n",
            "2025/05/26 02:43:07 WARNING mlflow.models.model: Model logged without a signature and input example. Please set `input_example` parameter when logging the model to auto infer the model signature.\n"
          ]
        },
        {
          "name": "stdout",
          "output_type": "stream",
          "text": [
            "Gradient Boosting model logged to MLflow with Accuracy: 0.8525, F1 Score: 0.8475\n",
            "🏃 View run Gradient Boosting Classifier_Heart at: http://127.0.0.1:5000/#/experiments/713760469802613570/runs/05d49d82c1004c0f80ab004373978ea0\n",
            "🧪 View experiment at: http://127.0.0.1:5000/#/experiments/713760469802613570\n"
          ]
        }
      ],
      "source": [
        "mlflow.set_tracking_uri(\"http://127.0.0.1:5000\")\n",
        "mlflow.set_experiment(\"Gradient Boosting Experiment_Heart\")\n",
        "\n",
        "with mlflow.start_run(run_name=\"Gradient Boosting Classifier_Heart\"):\n",
        "\n",
        "    # Log parameters\n",
        "    mlflow.log_param(\"model\", \"GradientBoostingClassifier\")\n",
        "    mlflow.log_param(\"random_state\", 42)\n",
        "\n",
        "    # Log metrics\n",
        "    mlflow.log_metric(\"accuracy\", acc_gbt)\n",
        "    mlflow.log_metric(\"f1_score\", f1_gbt)\n",
        "    mlflow.log_metric(\"error_rate\", error_rate)\n",
        "\n",
        "    # Log the model itself\n",
        "    mlflow.sklearn.log_model(gbt_model, \"GradientBoosting_Model_Hrat\")\n",
        "\n",
        "    print(f\"Gradient Boosting model logged to MLflow with Accuracy: {acc_gbt:.4f}, F1 Score: {f1_gbt:.4f}\")"
      ]
    },
    {
      "cell_type": "markdown",
      "metadata": {
        "id": "qDPDD6Q3bmnf"
      },
      "source": [
        "XGBoost"
      ]
    },
    {
      "cell_type": "code",
      "execution_count": null,
      "metadata": {
        "colab": {
          "base_uri": "https://localhost:8080/"
        },
        "id": "M64m_0G5bn02",
        "outputId": "e8e42cdf-3f33-44f0-dbfb-acd2f26c1d4a"
      },
      "outputs": [
        {
          "name": "stdout",
          "output_type": "stream",
          "text": [
            "XGBoost Accuracy: 0.8525\n",
            "Error Rate: 0.1475\n",
            "\n",
            "Confusion Matrix:\n",
            " [[26  3]\n",
            " [ 6 26]]\n",
            "Classification Report\n",
            "               precision    recall  f1-score   support\n",
            "\n",
            "           0       0.81      0.90      0.85        29\n",
            "           1       0.90      0.81      0.85        32\n",
            "\n",
            "    accuracy                           0.85        61\n",
            "   macro avg       0.85      0.85      0.85        61\n",
            "weighted avg       0.86      0.85      0.85        61\n",
            "\n"
          ]
        },
        {
          "name": "stderr",
          "output_type": "stream",
          "text": [
            "e:\\python projects\\venv\\Lib\\site-packages\\xgboost\\training.py:183: UserWarning: [20:45:01] WARNING: C:\\actions-runner\\_work\\xgboost\\xgboost\\src\\learner.cc:738: \n",
            "Parameters: { \"use_label_encoder\" } are not used.\n",
            "\n",
            "  bst.update(dtrain, iteration=i, fobj=obj)\n"
          ]
        }
      ],
      "source": [
        "from xgboost import XGBClassifier\n",
        "\n",
        "\n",
        "# Train XGBoost\n",
        "xgb_model = XGBClassifier(use_label_encoder=False, eval_metric='logloss', random_state=42)\n",
        "xgb_model.fit(X_train, y_train)\n",
        "\n",
        "# Predict and evaluate\n",
        "y_pred_xgb = xgb_model.predict(X_test)\n",
        "acc_xgb = accuracy_score(y_test, y_pred_xgb)\n",
        "f1_xgb = f1_score(y_test, y_pred_xgb)\n",
        "error_rate = 1 - acc_xgb\n",
        "print(f\"XGBoost Accuracy: {acc_xgb:.4f}\")\n",
        "print(f\"Error Rate: {error_rate:.4f}\")\n",
        "print(\"\\nConfusion Matrix:\\n\", confusion_matrix(y_test, y_pred_xgb))\n",
        "print(f\"Classification Report\\n\", classification_report(y_test, y_pred_xgb))"
      ]
    },
    {
      "cell_type": "code",
      "execution_count": null,
      "metadata": {
        "id": "ibCDrUbHxFj6",
        "outputId": "c86a62eb-00e7-4675-998a-6df7c3723901"
      },
      "outputs": [
        {
          "name": "stderr",
          "output_type": "stream",
          "text": [
            "2025/05/26 02:45:20 INFO mlflow.tracking.fluent: Experiment with name 'XGBoost Experiment_Heart' does not exist. Creating a new experiment.\n",
            "e:\\python projects\\venv\\Lib\\site-packages\\xgboost\\sklearn.py:1028: UserWarning: [02:45:21] WARNING: C:\\actions-runner\\_work\\xgboost\\xgboost\\src\\c_api\\c_api.cc:1427: Saving model in the UBJSON format as default.  You can use file extension: `json`, `ubj` or `deprecated` to choose between formats.\n",
            "  self.get_booster().save_model(fname)\n",
            "2025/05/26 02:45:30 WARNING mlflow.models.model: Model logged without a signature and input example. Please set `input_example` parameter when logging the model to auto infer the model signature.\n"
          ]
        },
        {
          "name": "stdout",
          "output_type": "stream",
          "text": [
            "XGBoost model logged to MLflow with Accuracy: 0.8525, F1 Score: 0.8525\n",
            "🏃 View run XGBoost Classifier_Heart at: http://127.0.0.1:5000/#/experiments/526397480420464159/runs/5d2588832d624c4382c12041ca0a2997\n",
            "🧪 View experiment at: http://127.0.0.1:5000/#/experiments/526397480420464159\n"
          ]
        }
      ],
      "source": [
        "mlflow.set_tracking_uri(\"http://127.0.0.1:5000\")  # Set your MLflow tracking server\n",
        "mlflow.set_experiment(\"XGBoost Experiment_Heart\")\n",
        "\n",
        "with mlflow.start_run(run_name=\"XGBoost Classifier_Heart\"):\n",
        "\n",
        "    # Log parameters\n",
        "    mlflow.log_param(\"model\", \"XGBClassifier\")\n",
        "    mlflow.log_param(\"eval_metric\", \"logloss\")\n",
        "    mlflow.log_param(\"random_state\", 42)\n",
        "\n",
        "    # Log metrics\n",
        "    mlflow.log_metric(\"accuracy\", acc_xgb)\n",
        "    mlflow.log_metric(\"f1_score\", f1_xgb)\n",
        "    mlflow.log_metric(\"error_rate\", error_rate)\n",
        "\n",
        "    # Log the model\n",
        "    mlflow.xgboost.log_model(xgb_model, \"XGBoost_Model_Heart\")\n",
        "\n",
        "    print(f\"XGBoost model logged to MLflow with Accuracy: {acc_xgb:.4f}, F1 Score: {f1_xgb:.4f}\")"
      ]
    },
    {
      "cell_type": "code",
      "execution_count": null,
      "metadata": {
        "id": "P7I-CogQxFj6",
        "outputId": "1b0bbc45-d194-402a-8131-6d3ef1851970"
      },
      "outputs": [
        {
          "data": {
            "image/png": "[encoded data removed]",
            "text/plain": [
              "<IPython.core.display.Image object>"
            ]
          },
          "execution_count": 112,
          "metadata": {},
          "output_type": "execute_result"
        }
      ],
      "source": [
        "from IPython.display import Image\n",
        "\n",
        "after_feature = \"E:/python projects/assigment1 PAI ss/Heart/acc_9_models_heart.png\"\n",
        "Image(after_feature)"
      ]
    },
    {
      "cell_type": "markdown",
      "metadata": {
        "id": "dsX8EKpeHz6q"
      },
      "source": [
        "# **ROC Curve**"
      ]
    },
    {
      "cell_type": "code",
      "execution_count": null,
      "metadata": {
        "colab": {
          "base_uri": "https://localhost:8080/",
          "height": 883
        },
        "id": "f-4rIRajHyoo",
        "outputId": "48dfc8a3-ff00-4597-a1a8-03931888fcc7"
      },
      "outputs": [
        {
          "data": {
            "image/png": "[encoded data removed]",
            "text/plain": [
              "<Figure size 1500x1200 with 9 Axes>"
            ]
          },
          "metadata": {},
          "output_type": "display_data"
        }
      ],
      "source": [
        "import matplotlib.pyplot as plt\n",
        "from sklearn.metrics import roc_curve, auc\n",
        "from sklearn.exceptions import NotFittedError\n",
        "\n",
        "models = {\n",
        "    'Decision Tree': dt_model,\n",
        "    'KNN': knn_model,\n",
        "    'Random Forest': rf_model,\n",
        "    'Logistic Regression': lr_model,\n",
        "    'XGBoost': xgb_model,\n",
        "    'Gradient Boosting': gbt_model,\n",
        "    'Neural Network': nn_model,\n",
        "    'Naive Bayes': nb_model,\n",
        "    'SVM': svm_model\n",
        "}\n",
        "\n",
        "n_models = len(models)\n",
        "cols = 3\n",
        "rows = (n_models + cols - 1) // cols\n",
        "\n",
        "plt.figure(figsize=(5*cols, 4*rows))\n",
        "\n",
        "for i, (name, model) in enumerate(models.items(), 1):\n",
        "    plt.subplot(rows, cols, i)\n",
        "    try:\n",
        "        if hasattr(model, \"predict_proba\"):\n",
        "            y_score = model.predict_proba(X_test)[:, 1]\n",
        "        elif hasattr(model, \"decision_function\"):\n",
        "            y_score = model.decision_function(X_test)\n",
        "        else:\n",
        "            raise AttributeError(\"Model has no method to get scores for ROC curve\")\n",
        "\n",
        "        fpr, tpr, _ = roc_curve(y_test, y_score)\n",
        "        roc_auc = auc(fpr, tpr)\n",
        "\n",
        "        plt.plot(fpr, tpr, label=f'AUC = {roc_auc:.2f}')\n",
        "        plt.plot([0, 1], [0, 1], 'k--')\n",
        "        plt.title(f'ROC Curve: {name}')\n",
        "        plt.xlabel('False Positive Rate')\n",
        "        plt.ylabel('True Positive Rate')\n",
        "        plt.legend(loc='lower right')\n",
        "    except NotFittedError:\n",
        "        plt.text(0.5, 0.5, 'Model not fitted', ha='center', va='center')\n",
        "        plt.title(f'ROC Curve: {name}')\n",
        "        plt.axis('off')\n",
        "    except Exception as e:\n",
        "        plt.text(0.5, 0.5, str(e), ha='center', va='center')\n",
        "        plt.title(f'ROC Curve: {name}')\n",
        "        plt.axis('off')\n",
        "\n",
        "# Add more space between subplots\n",
        "plt.tight_layout(pad=3.0)\n",
        "# Or use plt.subplots_adjust if you want even more control\n",
        "# plt.subplots_adjust(wspace=0.4, hspace=0.6)\n",
        "\n",
        "plt.show()\n"
      ]
    },
    {
      "cell_type": "markdown",
      "metadata": {
        "id": "XjDcw87F_iNi"
      },
      "source": [
        "# **8 Fold on Three Models**"
      ]
    },
    {
      "cell_type": "code",
      "execution_count": null,
      "metadata": {
        "colab": {
          "base_uri": "https://localhost:8080/",
          "height": 718
        },
        "id": "cFV4qF7R_khm",
        "outputId": "e3818f63-b93f-49d8-9972-ee1a40bf4a10"
      },
      "outputs": [
        {
          "name": "stdout",
          "output_type": "stream",
          "text": [
            "Random Forest acc: 0.8416\n",
            "Random Forest Overall Error Rate (8-fold CV): 0.1584\n",
            "Decision Tree acc: 0.7395\n",
            "Decision Tree Overall Error Rate (8-fold CV): 0.2605\n",
            "SVM acc: 0.8186\n",
            "SVM Overall Error Rate (8-fold CV): 0.1814\n"
          ]
        },
        {
          "data": {
            "image/png": "[encoded data removed]",
            "text/plain": [
              "<Figure size 600x600 with 1 Axes>"
            ]
          },
          "metadata": {},
          "output_type": "display_data"
        }
      ],
      "source": [
        "from sklearn.model_selection import KFold\n",
        "from sklearn.metrics import accuracy_score\n",
        "import numpy as np\n",
        "from sklearn.ensemble import RandomForestClassifier\n",
        "from sklearn.tree import DecisionTreeClassifier\n",
        "from sklearn.svm import SVC\n",
        "\n",
        "\n",
        "kf = KFold(n_splits=8, shuffle=True, random_state=42)\n",
        "\n",
        "models = {\n",
        "    'Random Forest': RandomForestClassifier(random_state=42),\n",
        "    'Decision Tree': DecisionTreeClassifier(random_state=42),\n",
        "    'SVM': SVC(kernel='linear', probability=True, random_state=42)  # probability=True for predict_proba\n",
        "}\n",
        "\n",
        "# Dictionary to store error rates per model\n",
        "error_rates = {name: [] for name in models.keys()}\n",
        "\n",
        "for train_index, test_index in kf.split(X):\n",
        "    # Using .iloc to select rows by integer position\n",
        "    X_train, X_test = X.iloc[train_index], X.iloc[test_index]\n",
        "    y_train, y_test = y.iloc[train_index], y.iloc[test_index]\n",
        "\n",
        "    for name, model in models.items():\n",
        "        model.fit(X_train, y_train)\n",
        "        y_pred = model.predict(X_test)\n",
        "        acc = accuracy_score(y_test, y_pred)\n",
        "        error_rate = 1 - acc\n",
        "        error_rates[name].append(error_rate)\n",
        "\n",
        "# Calculating and printing average error rate per model\n",
        "for name in models.keys():\n",
        "    avg_error = np.mean(error_rates[name])\n",
        "    avg_acc = np.mean(1 - np.array(error_rates[name]))\n",
        "\n",
        "    print(f\"{name} acc: {avg_acc:.4f}\")\n",
        "    print(f\"{name} Overall Error Rate (8-fold CV): {avg_error:.4f}\")\n",
        "\n",
        "\n",
        "folds = np.arange(1, 9)  # Fold numbers 1 to 8\n",
        "bar_width = 0.25\n",
        "x = np.arange(len(folds))\n",
        "\n",
        "plt.figure(figsize=(6, 6))\n",
        "\n",
        "# Plotting each model's error bars with offset\n",
        "for i, (name, errors) in enumerate(error_rates.items()):\n",
        "    plt.bar(x + i * bar_width, errors, width=bar_width, label=name)\n",
        "\n",
        "plt.xlabel(\"Fold Number\")\n",
        "plt.ylabel(\"Error Rate\")\n",
        "plt.title(\"Error Rate per Fold (8-Fold CV)\")\n",
        "plt.xticks(x + bar_width, folds)\n",
        "plt.ylim(0, 0.5)\n",
        "plt.legend()\n",
        "plt.grid(axis='y')\n",
        "plt.tight_layout()\n",
        "plt.show()\n"
      ]
    },
    {
      "cell_type": "code",
      "execution_count": null,
      "metadata": {
        "id": "z01pit0qxFj8",
        "outputId": "89e5be70-62ac-4c6b-fb4c-6905ef56d37e"
      },
      "outputs": [
        {
          "name": "stdout",
          "output_type": "stream",
          "text": [
            "Random Forest acc: 0.8416\n",
            "Random Forest Overall Error Rate (8-fold CV): 0.1584\n"
          ]
        },
        {
          "name": "stderr",
          "output_type": "stream",
          "text": [
            "2025/05/26 05:15:21 WARNING mlflow.models.model: Model logged without a signature and input example. Please set `input_example` parameter when logging the model to auto infer the model signature.\n"
          ]
        },
        {
          "name": "stdout",
          "output_type": "stream",
          "text": [
            "🏃 View run Random Forest_8FoldCV_Heart at: http://127.0.0.1:5000/#/experiments/256672308936108572/runs/50e46dd309bc4e7b9ecac93757b791d1\n",
            "🧪 View experiment at: http://127.0.0.1:5000/#/experiments/256672308936108572\n",
            "Decision Tree acc: 0.7395\n",
            "Decision Tree Overall Error Rate (8-fold CV): 0.2605\n"
          ]
        },
        {
          "name": "stderr",
          "output_type": "stream",
          "text": [
            "2025/05/26 05:15:26 WARNING mlflow.models.model: Model logged without a signature and input example. Please set `input_example` parameter when logging the model to auto infer the model signature.\n"
          ]
        },
        {
          "name": "stdout",
          "output_type": "stream",
          "text": [
            "🏃 View run Decision Tree_8FoldCV_Heart at: http://127.0.0.1:5000/#/experiments/256672308936108572/runs/5e6fdada833543c5bfcfe23180af2193\n",
            "🧪 View experiment at: http://127.0.0.1:5000/#/experiments/256672308936108572\n",
            "SVM acc: 0.8186\n",
            "SVM Overall Error Rate (8-fold CV): 0.1814\n"
          ]
        },
        {
          "name": "stderr",
          "output_type": "stream",
          "text": [
            "2025/05/26 05:15:30 WARNING mlflow.models.model: Model logged without a signature and input example. Please set `input_example` parameter when logging the model to auto infer the model signature.\n"
          ]
        },
        {
          "name": "stdout",
          "output_type": "stream",
          "text": [
            "🏃 View run SVM_8FoldCV_Heart at: http://127.0.0.1:5000/#/experiments/256672308936108572/runs/65cf3012513c41cda23c5b4542c03274\n",
            "🧪 View experiment at: http://127.0.0.1:5000/#/experiments/256672308936108572\n"
          ]
        }
      ],
      "source": [
        "for name in models.keys():\n",
        "    avg_error = np.mean(error_rates[name])\n",
        "    avg_acc = 1 - avg_error\n",
        "\n",
        "    print(f\"{name} acc: {avg_acc:.4f}\")\n",
        "    print(f\"{name} Overall Error Rate (8-fold CV): {avg_error:.4f}\")\n",
        "\n",
        "    with mlflow.start_run(run_name=f\"{name}_8FoldCV_Heart\"):\n",
        "        mlflow.log_param(\"model\", name)\n",
        "        mlflow.log_param(\"cv_folds\", 8)\n",
        "        mlflow.log_metric(\"avg_accuracy\", avg_acc)\n",
        "        mlflow.log_metric(\"avg_error_rate\", avg_error)\n",
        "        mlflow.sklearn.log_model(models[name], f\"{name}_model\")"
      ]
    },
    {
      "cell_type": "code",
      "execution_count": null,
      "metadata": {
        "id": "Cy2XppodxFj9",
        "outputId": "6588e8c0-26c2-4ac3-c8a0-295eb4a0862b"
      },
      "outputs": [
        {
          "data": {
            "image/png": "[encoded data removed]",
            "text/plain": [
              "<IPython.core.display.Image object>"
            ]
          },
          "execution_count": 114,
          "metadata": {},
          "output_type": "execute_result"
        }
      ],
      "source": [
        "from IPython.display import Image\n",
        "\n",
        "Fold8 = \"E:/python projects/assigment1 PAI ss/Heart/8fold.png\"\n",
        "Image(Fold8)"
      ]
    },
    {
      "cell_type": "code",
      "execution_count": null,
      "metadata": {
        "colab": {
          "base_uri": "https://localhost:8080/",
          "height": 1000
        },
        "id": "JHyR7PUTJSy1",
        "outputId": "441841b1-1e3d-4af6-97fe-2297a762d810"
      },
      "outputs": [
        {
          "name": "stderr",
          "output_type": "stream",
          "text": [
            "C:\\Users\\user\\AppData\\Local\\Temp\\ipykernel_272\\3046429049.py:22: FutureWarning: \n",
            "\n",
            "Passing `palette` without assigning `hue` is deprecated and will be removed in v0.14.0. Assign the `x` variable to `hue` and set `legend=False` for the same effect.\n",
            "\n",
            "  sns.barplot(x=list(results.keys()), y=list(results.values()), palette=\"viridis\")\n"
          ]
        },
        {
          "data": {
            "image/png": "[encoded data removed]",
            "text/plain": [
              "<Figure size 600x600 with 1 Axes>"
            ]
          },
          "metadata": {},
          "output_type": "display_data"
        },
        {
          "name": "stderr",
          "output_type": "stream",
          "text": [
            "C:\\Users\\user\\AppData\\Local\\Temp\\ipykernel_272\\3046429049.py:39: FutureWarning: \n",
            "\n",
            "Passing `palette` without assigning `hue` is deprecated and will be removed in v0.14.0. Assign the `x` variable to `hue` and set `legend=False` for the same effect.\n",
            "\n",
            "  sns.barplot(x=list(f1_results.keys()), y=list(f1_results.values()), palette=\"viridis\")\n"
          ]
        },
        {
          "data": {
            "image/png": "[encoded data removed]",
            "text/plain": [
              "<Figure size 700x500 with 1 Axes>"
            ]
          },
          "metadata": {},
          "output_type": "display_data"
        }
      ],
      "source": [
        "import matplotlib.pyplot as plt\n",
        "import seaborn as sns\n",
        "\n",
        "# Accuracy and F1 scores\n",
        "results = {\n",
        "    'Random Forest': acc_rf,\n",
        "    'SVM': acc_svm,\n",
        "    'Logistic Regression': acc_lr,\n",
        "    'Neural Network': acc_nn\n",
        "}\n",
        "\n",
        "f1_results = {\n",
        "    'Random Forest': f1_rf,\n",
        "    'SVM': f1_svm,\n",
        "    'Logistic Regression': f1_lr,\n",
        "    'Neural Network': f1_nn\n",
        "\n",
        "}\n",
        "\n",
        "# Plot Accuracy\n",
        "plt.figure(figsize=(6, 6))\n",
        "sns.barplot(x=list(results.keys()), y=list(results.values()), palette=\"viridis\")\n",
        "\n",
        "# Add value labels on bars\n",
        "for i, (model, acc) in enumerate(results.items()):\n",
        "    plt.text(i, acc + 0.01, f\"{acc:.2f}\", ha='center', va='bottom', fontweight='bold')\n",
        "\n",
        "plt.title('Model Accuracy Comparison', fontsize=14, fontweight='bold')\n",
        "plt.ylabel('Accuracy Score', fontsize=12)\n",
        "plt.xlabel('Machine Learning Models', fontsize=12)\n",
        "plt.ylim(0, 1.1)\n",
        "plt.grid(axis='y', linestyle='--', alpha=0.6)\n",
        "plt.xticks(rotation=30)\n",
        "plt.tight_layout()\n",
        "plt.show()\n",
        "\n",
        "# Plot F1 Score\n",
        "plt.figure(figsize=(7, 5))\n",
        "sns.barplot(x=list(f1_results.keys()), y=list(f1_results.values()), palette=\"viridis\")\n",
        "\n",
        "# Add value labels on bars\n",
        "for i, (model, f1) in enumerate(f1_results.items()):\n",
        "    plt.text(i, f1 + 0.01, f\"{f1:.2f}\", ha='center', va='bottom', fontweight='bold')\n",
        "\n",
        "plt.title('Model F1-Score Comparison', fontsize=14, fontweight='bold')\n",
        "plt.ylabel('F1 Score', fontsize=12)\n",
        "plt.xlabel('Machine Learning Models', fontsize=12)\n",
        "plt.ylim(0, 1.1)\n",
        "plt.grid(axis='y', linestyle='--', alpha=0.6)\n",
        "plt.xticks(rotation=30)\n",
        "plt.tight_layout()\n",
        "plt.show()\n"
      ]
    },
    {
      "cell_type": "markdown",
      "metadata": {
        "id": "Ltl88q4YQuUv"
      },
      "source": [
        "# **Hybrid RF and LR**"
      ]
    },
    {
      "cell_type": "code",
      "execution_count": null,
      "metadata": {
        "id": "DIKOBxZ5LLwW",
        "outputId": "c6aaa8e5-c3ec-4eba-b9ba-5ffaee04b69b"
      },
      "outputs": [
        {
          "name": "stdout",
          "output_type": "stream",
          "text": [
            "Logistic Regression Accuracy: 0.8852459016393442\n",
            "Random Forest Accuracy: 0.9180327868852459\n",
            "\n",
            "Hybrid (Logistic Regression + RF) Accuracy: 0.918918918918919\n",
            "Error Rate: 0.08108108108108103\n",
            "\n",
            "Confusion Matrix:\n",
            " [[20  1]\n",
            " [ 2 14]]\n",
            "Classification Report:\n",
            "               precision    recall  f1-score   support\n",
            "\n",
            "           0       0.91      0.95      0.93        21\n",
            "           1       0.93      0.88      0.90        16\n",
            "\n",
            "    accuracy                           0.92        37\n",
            "   macro avg       0.92      0.91      0.92        37\n",
            "weighted avg       0.92      0.92      0.92        37\n",
            "\n"
          ]
        }
      ],
      "source": [
        "from sklearn.ensemble import VotingClassifier\n",
        "\n",
        "print(\"Logistic Regression Accuracy:\", acc_lr)\n",
        "print(\"Random Forest Accuracy:\", acc_rf)\n",
        "\n",
        "# Hybrid model (Ensemble)\n",
        "voting_clf = VotingClassifier(\n",
        "    estimators=[\n",
        "        ('lr', lr_model),\n",
        "        ('rf', rf_model)\n",
        "    ],\n",
        "    voting='hard'  # majority voting\n",
        ")\n",
        "\n",
        "voting_clf.fit(X_train, y_train)\n",
        "voting_pred = voting_clf.predict(X_test)\n",
        "acc_voting = accuracy_score(y_test, voting_pred)\n",
        "f1_voting = f1_score(y_test, voting_pred)\n",
        "print(\"\\nHybrid (Logistic Regression + RF) Accuracy:\", accuracy_score(y_test, voting_pred))\n",
        "print(\"Error Rate:\", 1 - accuracy_score(y_test, voting_pred))\n",
        "print(\"\\nConfusion Matrix:\\n\", confusion_matrix(y_test, voting_pred))\n",
        "print(\"Classification Report:\\n\", classification_report(y_test, voting_pred))\n"
      ]
    },
    {
      "cell_type": "code",
      "execution_count": null,
      "metadata": {
        "id": "xMiFC3B8xFj-",
        "outputId": "8086da8d-9d12-49f5-f565-a14ef1fda245"
      },
      "outputs": [
        {
          "name": "stderr",
          "output_type": "stream",
          "text": [
            "2025/05/26 03:25:24 INFO mlflow.tracking.fluent: Experiment with name 'Hybrid_LR_RF_VotingClassifier_Heart' does not exist. Creating a new experiment.\n",
            "2025/05/26 03:25:29 WARNING mlflow.models.model: Model logged without a signature and input example. Please set `input_example` parameter when logging the model to auto infer the model signature.\n"
          ]
        },
        {
          "name": "stdout",
          "output_type": "stream",
          "text": [
            "🏃 View run Hybrid_LR_RF_VotingClassifier_Heart at: http://127.0.0.1:5000/#/experiments/256672308936108572/runs/0acab20485a242d788fcff263be03f1d\n",
            "🧪 View experiment at: http://127.0.0.1:5000/#/experiments/256672308936108572\n"
          ]
        }
      ],
      "source": [
        "mlflow.set_tracking_uri(\"http://127.0.0.1:5000\")  # Set your MLflow tracking server\n",
        "mlflow.set_experiment(\"Hybrid_LR_RF_VotingClassifier_Heart\")\n",
        "with mlflow.start_run(run_name=\"Hybrid_LR_RF_VotingClassifier_Heart\"):\n",
        "\n",
        "\n",
        "    # Metrics\n",
        "    acc = accuracy_score(y_test, voting_pred)\n",
        "    err = 1 - acc\n",
        "    conf_mat = confusion_matrix(y_test, voting_pred)\n",
        "    class_rep = classification_report(y_test, voting_pred, output_dict=True)\n",
        "\n",
        "    # Log metrics\n",
        "    mlflow.log_metric(\"Hybrid_Accuracy\", acc)\n",
        "    mlflow.log_metric(\"Hybrid_Error_Rate\", err)\n",
        "\n",
        "    # Log classification report values separately (precision, recall, f1 for class 0 & 1)\n",
        "    mlflow.log_metric(\"F1_score_class_0\", class_rep['0']['f1-score'])\n",
        "    mlflow.log_metric(\"F1_score_class_1\", class_rep['1']['f1-score'])\n",
        "    mlflow.log_metric(\"Precision_class_1\", class_rep['1']['precision'])\n",
        "    mlflow.log_metric(\"Recall_class_1\", class_rep['1']['recall'])\n",
        "\n",
        "    # Log model\n",
        "    mlflow.sklearn.log_model(voting_clf, \"voting_model_Heart\")"
      ]
    },
    {
      "cell_type": "code",
      "execution_count": null,
      "metadata": {
        "id": "wltEDgVExFj-",
        "outputId": "f3a880ba-895c-4a38-f22f-bd912483b9c1"
      },
      "outputs": [
        {
          "data": {
            "image/png": "[encoded data removed]",
            "text/plain": [
              "<IPython.core.display.Image object>"
            ]
          },
          "execution_count": 115,
          "metadata": {},
          "output_type": "execute_result"
        }
      ],
      "source": [
        "from IPython.display import Image\n",
        "\n",
        "HRFLR = \"E:/python projects/assigment1 PAI ss/Heart/acc_with_HRFLR.png\"\n",
        "Image(HRFLR)"
      ]
    },
    {
      "cell_type": "markdown",
      "source": [
        "![image.png](data:image/png;base64,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)"
      ],
      "metadata": {
        "id": "cpAzvqtQzZkl"
      }
    },
    {
      "cell_type": "code",
      "execution_count": null,
      "metadata": {
        "id": "z_7miB0A8dJ9",
        "outputId": "3e4312c2-a60d-4b72-f193-4a31b9aac177"
      },
      "outputs": [
        {
          "data": {
            "image/png": "[encoded data removed]",
            "text/plain": [
              "<Figure size 1400x700 with 1 Axes>"
            ]
          },
          "metadata": {},
          "output_type": "display_data"
        }
      ],
      "source": [
        "import matplotlib.pyplot as plt\n",
        "import numpy as np\n",
        "\n",
        "# Model names\n",
        "model_names = [\n",
        "    \"Logistic Regression\", \"Random Forest\", \"Naive Bayes\", \"KNN\", \"SVM\",\n",
        "    \"Neural Network\", \"Decision Tree\", \"Gradient Boosting\", \"XGBoost\", \"Hybrid (LR+RF)\"\n",
        "]\n",
        "\n",
        "# Accuracy scores\n",
        "accuracies = [\n",
        "    acc_lr, acc_rf, acc_nb, acc_knn, acc_svm,\n",
        "    acc_nn, acc_dt, acc_gbt, acc_xgb, acc_voting\n",
        "]\n",
        "\n",
        "# F1 scores\n",
        "f1_scores = [\n",
        "    f1_lr, f1_rf, f1_nb, f1_knn, f1_svm,\n",
        "    f1_nn, f1_dt, f1_gbt, f1_xgb, f1_voting\n",
        "]\n",
        "\n",
        "# Bar width and x locations\n",
        "bar_width = 0.35\n",
        "x = np.arange(len(model_names))\n",
        "\n",
        "plt.figure(figsize=(14, 7))\n",
        "\n",
        "# Plot Accuracy bars\n",
        "acc_bars = plt.bar(x - bar_width/2, accuracies, bar_width, label='Accuracy', color='skyblue')\n",
        "\n",
        "# Plot F1 Score bars\n",
        "f1_bars = plt.bar(x + bar_width/2, f1_scores, bar_width, label='F1 Score', color='lightcoral')\n",
        "\n",
        "plt.xticks(x, model_names, rotation=45, ha='right')\n",
        "plt.ylim(0, 1.05)\n",
        "plt.ylabel('Score')\n",
        "plt.title('Model Accuracy and F1 Score Comparison')\n",
        "plt.legend()\n",
        "\n",
        "# Add value labels on top of bars for accuracy\n",
        "for bar in acc_bars:\n",
        "    yval = bar.get_height()\n",
        "    plt.text(bar.get_x() + bar.get_width()/2, yval + 0.02, f'{yval:.2f}', ha='center', va='bottom', fontsize=9)\n",
        "\n",
        "# Add value labels on top of bars for f1 score\n",
        "for bar in f1_bars:\n",
        "    yval = bar.get_height()\n",
        "    plt.text(bar.get_x() + bar.get_width()/2, yval + 0.02, f'{yval:.2f}', ha='center', va='bottom', fontsize=9)\n",
        "\n",
        "plt.tight_layout()\n",
        "plt.show()\n"
      ]
    },
    {
      "cell_type": "markdown",
      "source": [],
      "metadata": {
        "id": "6oA4CNXHxS1Z"
      }
    },
    {
      "cell_type": "markdown",
      "source": [
        "![image.png](data:image/png;base64,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)"
      ],
      "metadata": {
        "id": "v_lxOWdIz_PJ"
      }
    },
    {
      "cell_type": "markdown",
      "metadata": {
        "id": "x9CgV5OuxFj_"
      },
      "source": []
    }
  ],
  "metadata": {
    "colab": {
      "provenance": []
    },
    "kernelspec": {
      "display_name": "venv",
      "language": "python",
      "name": "python3"
    },
    "language_info": {
      "codemirror_mode": {
        "name": "ipython",
        "version": 3
      },
      "file_extension": ".py",
      "mimetype": "text/x-python",
      "name": "python",
      "nbconvert_exporter": "python",
      "pygments_lexer": "ipython3",
      "version": "3.11.9"
    }
  },
  "nbformat": 4,
  "nbformat_minor": 0
}